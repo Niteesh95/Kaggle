{
 "cells": [
  {
   "cell_type": "code",
   "execution_count": 4,
   "metadata": {},
   "outputs": [],
   "source": [
    "import pandas as pd\n",
    "import numpy as np\n",
    "import matplotlib as mpl\n",
    "import matplotlib.pyplot as plt\n"
   ]
  },
  {
   "cell_type": "code",
   "execution_count": 5,
   "metadata": {},
   "outputs": [],
   "source": [
    "df_original = pd.read_csv(\"D:/Data Science/DataSets Downloaded/Seattle - Git/Kaggle/house_sales.csv\")"
   ]
  },
  {
   "cell_type": "code",
   "execution_count": 6,
   "metadata": {},
   "outputs": [
    {
     "data": {
      "text/html": [
       "<div>\n",
       "<style scoped>\n",
       "    .dataframe tbody tr th:only-of-type {\n",
       "        vertical-align: middle;\n",
       "    }\n",
       "\n",
       "    .dataframe tbody tr th {\n",
       "        vertical-align: top;\n",
       "    }\n",
       "\n",
       "    .dataframe thead th {\n",
       "        text-align: right;\n",
       "    }\n",
       "</style>\n",
       "<table border=\"1\" class=\"dataframe\">\n",
       "  <thead>\n",
       "    <tr style=\"text-align: right;\">\n",
       "      <th></th>\n",
       "      <th>id</th>\n",
       "      <th>date</th>\n",
       "      <th>price</th>\n",
       "      <th>bedrooms</th>\n",
       "      <th>bathrooms</th>\n",
       "      <th>sqft_living</th>\n",
       "      <th>sqft_lot</th>\n",
       "      <th>floors</th>\n",
       "      <th>waterfront</th>\n",
       "      <th>view</th>\n",
       "      <th>...</th>\n",
       "      <th>grade</th>\n",
       "      <th>sqft_above</th>\n",
       "      <th>sqft_basement</th>\n",
       "      <th>yr_built</th>\n",
       "      <th>yr_renovated</th>\n",
       "      <th>zipcode</th>\n",
       "      <th>lat</th>\n",
       "      <th>long</th>\n",
       "      <th>sqft_living15</th>\n",
       "      <th>sqft_lot15</th>\n",
       "    </tr>\n",
       "  </thead>\n",
       "  <tbody>\n",
       "    <tr>\n",
       "      <td>0</td>\n",
       "      <td>7129300520</td>\n",
       "      <td>20141013T000000</td>\n",
       "      <td>221900</td>\n",
       "      <td>3</td>\n",
       "      <td>1.00</td>\n",
       "      <td>1180</td>\n",
       "      <td>5650</td>\n",
       "      <td>1.0</td>\n",
       "      <td>0</td>\n",
       "      <td>0</td>\n",
       "      <td>...</td>\n",
       "      <td>7</td>\n",
       "      <td>1180</td>\n",
       "      <td>0</td>\n",
       "      <td>1955</td>\n",
       "      <td>0</td>\n",
       "      <td>98178</td>\n",
       "      <td>47.5112</td>\n",
       "      <td>-122.257</td>\n",
       "      <td>1340</td>\n",
       "      <td>5650</td>\n",
       "    </tr>\n",
       "    <tr>\n",
       "      <td>1</td>\n",
       "      <td>6414100192</td>\n",
       "      <td>20141209T000000</td>\n",
       "      <td>538000</td>\n",
       "      <td>3</td>\n",
       "      <td>2.25</td>\n",
       "      <td>2570</td>\n",
       "      <td>7242</td>\n",
       "      <td>2.0</td>\n",
       "      <td>0</td>\n",
       "      <td>0</td>\n",
       "      <td>...</td>\n",
       "      <td>7</td>\n",
       "      <td>2170</td>\n",
       "      <td>400</td>\n",
       "      <td>1951</td>\n",
       "      <td>1991</td>\n",
       "      <td>98125</td>\n",
       "      <td>47.7210</td>\n",
       "      <td>-122.319</td>\n",
       "      <td>1690</td>\n",
       "      <td>7639</td>\n",
       "    </tr>\n",
       "    <tr>\n",
       "      <td>2</td>\n",
       "      <td>5631500400</td>\n",
       "      <td>20150225T000000</td>\n",
       "      <td>180000</td>\n",
       "      <td>2</td>\n",
       "      <td>1.00</td>\n",
       "      <td>770</td>\n",
       "      <td>10000</td>\n",
       "      <td>1.0</td>\n",
       "      <td>0</td>\n",
       "      <td>0</td>\n",
       "      <td>...</td>\n",
       "      <td>6</td>\n",
       "      <td>770</td>\n",
       "      <td>0</td>\n",
       "      <td>1933</td>\n",
       "      <td>0</td>\n",
       "      <td>98028</td>\n",
       "      <td>47.7379</td>\n",
       "      <td>-122.233</td>\n",
       "      <td>2720</td>\n",
       "      <td>8062</td>\n",
       "    </tr>\n",
       "    <tr>\n",
       "      <td>3</td>\n",
       "      <td>2487200875</td>\n",
       "      <td>20141209T000000</td>\n",
       "      <td>604000</td>\n",
       "      <td>4</td>\n",
       "      <td>3.00</td>\n",
       "      <td>1960</td>\n",
       "      <td>5000</td>\n",
       "      <td>1.0</td>\n",
       "      <td>0</td>\n",
       "      <td>0</td>\n",
       "      <td>...</td>\n",
       "      <td>7</td>\n",
       "      <td>1050</td>\n",
       "      <td>910</td>\n",
       "      <td>1965</td>\n",
       "      <td>0</td>\n",
       "      <td>98136</td>\n",
       "      <td>47.5208</td>\n",
       "      <td>-122.393</td>\n",
       "      <td>1360</td>\n",
       "      <td>5000</td>\n",
       "    </tr>\n",
       "    <tr>\n",
       "      <td>4</td>\n",
       "      <td>1954400510</td>\n",
       "      <td>20150218T000000</td>\n",
       "      <td>510000</td>\n",
       "      <td>3</td>\n",
       "      <td>2.00</td>\n",
       "      <td>1680</td>\n",
       "      <td>8080</td>\n",
       "      <td>1.0</td>\n",
       "      <td>0</td>\n",
       "      <td>0</td>\n",
       "      <td>...</td>\n",
       "      <td>8</td>\n",
       "      <td>1680</td>\n",
       "      <td>0</td>\n",
       "      <td>1987</td>\n",
       "      <td>0</td>\n",
       "      <td>98074</td>\n",
       "      <td>47.6168</td>\n",
       "      <td>-122.045</td>\n",
       "      <td>1800</td>\n",
       "      <td>7503</td>\n",
       "    </tr>\n",
       "  </tbody>\n",
       "</table>\n",
       "<p>5 rows × 21 columns</p>\n",
       "</div>"
      ],
      "text/plain": [
       "           id             date   price  bedrooms  bathrooms  sqft_living  \\\n",
       "0  7129300520  20141013T000000  221900         3       1.00         1180   \n",
       "1  6414100192  20141209T000000  538000         3       2.25         2570   \n",
       "2  5631500400  20150225T000000  180000         2       1.00          770   \n",
       "3  2487200875  20141209T000000  604000         4       3.00         1960   \n",
       "4  1954400510  20150218T000000  510000         3       2.00         1680   \n",
       "\n",
       "   sqft_lot  floors  waterfront  view  ...  grade  sqft_above  sqft_basement  \\\n",
       "0      5650     1.0           0     0  ...      7        1180              0   \n",
       "1      7242     2.0           0     0  ...      7        2170            400   \n",
       "2     10000     1.0           0     0  ...      6         770              0   \n",
       "3      5000     1.0           0     0  ...      7        1050            910   \n",
       "4      8080     1.0           0     0  ...      8        1680              0   \n",
       "\n",
       "   yr_built  yr_renovated  zipcode      lat     long  sqft_living15  \\\n",
       "0      1955             0    98178  47.5112 -122.257           1340   \n",
       "1      1951          1991    98125  47.7210 -122.319           1690   \n",
       "2      1933             0    98028  47.7379 -122.233           2720   \n",
       "3      1965             0    98136  47.5208 -122.393           1360   \n",
       "4      1987             0    98074  47.6168 -122.045           1800   \n",
       "\n",
       "   sqft_lot15  \n",
       "0        5650  \n",
       "1        7639  \n",
       "2        8062  \n",
       "3        5000  \n",
       "4        7503  \n",
       "\n",
       "[5 rows x 21 columns]"
      ]
     },
     "execution_count": 6,
     "metadata": {},
     "output_type": "execute_result"
    }
   ],
   "source": [
    "df = df_original.copy()\n",
    "df.head()"
   ]
  },
  {
   "cell_type": "code",
   "execution_count": 7,
   "metadata": {},
   "outputs": [
    {
     "data": {
      "text/plain": [
       "(21613, 21)"
      ]
     },
     "execution_count": 7,
     "metadata": {},
     "output_type": "execute_result"
    }
   ],
   "source": [
    "df.shape"
   ]
  },
  {
   "cell_type": "code",
   "execution_count": 8,
   "metadata": {},
   "outputs": [],
   "source": [
    "df.drop([\"id\", \"date\"], inplace=True, axis=1)"
   ]
  },
  {
   "cell_type": "code",
   "execution_count": 9,
   "metadata": {},
   "outputs": [
    {
     "data": {
      "text/html": [
       "<div>\n",
       "<style scoped>\n",
       "    .dataframe tbody tr th:only-of-type {\n",
       "        vertical-align: middle;\n",
       "    }\n",
       "\n",
       "    .dataframe tbody tr th {\n",
       "        vertical-align: top;\n",
       "    }\n",
       "\n",
       "    .dataframe thead th {\n",
       "        text-align: right;\n",
       "    }\n",
       "</style>\n",
       "<table border=\"1\" class=\"dataframe\">\n",
       "  <thead>\n",
       "    <tr style=\"text-align: right;\">\n",
       "      <th></th>\n",
       "      <th>price</th>\n",
       "      <th>bedrooms</th>\n",
       "      <th>bathrooms</th>\n",
       "      <th>sqft_living</th>\n",
       "      <th>sqft_lot</th>\n",
       "      <th>floors</th>\n",
       "      <th>waterfront</th>\n",
       "      <th>view</th>\n",
       "      <th>condition</th>\n",
       "      <th>grade</th>\n",
       "      <th>sqft_above</th>\n",
       "      <th>sqft_basement</th>\n",
       "      <th>yr_built</th>\n",
       "      <th>yr_renovated</th>\n",
       "      <th>zipcode</th>\n",
       "      <th>lat</th>\n",
       "      <th>long</th>\n",
       "      <th>sqft_living15</th>\n",
       "      <th>sqft_lot15</th>\n",
       "    </tr>\n",
       "  </thead>\n",
       "  <tbody>\n",
       "    <tr>\n",
       "      <td>0</td>\n",
       "      <td>221900</td>\n",
       "      <td>3</td>\n",
       "      <td>1.00</td>\n",
       "      <td>1180</td>\n",
       "      <td>5650</td>\n",
       "      <td>1.0</td>\n",
       "      <td>0</td>\n",
       "      <td>0</td>\n",
       "      <td>3</td>\n",
       "      <td>7</td>\n",
       "      <td>1180</td>\n",
       "      <td>0</td>\n",
       "      <td>1955</td>\n",
       "      <td>0</td>\n",
       "      <td>98178</td>\n",
       "      <td>47.5112</td>\n",
       "      <td>-122.257</td>\n",
       "      <td>1340</td>\n",
       "      <td>5650</td>\n",
       "    </tr>\n",
       "    <tr>\n",
       "      <td>1</td>\n",
       "      <td>538000</td>\n",
       "      <td>3</td>\n",
       "      <td>2.25</td>\n",
       "      <td>2570</td>\n",
       "      <td>7242</td>\n",
       "      <td>2.0</td>\n",
       "      <td>0</td>\n",
       "      <td>0</td>\n",
       "      <td>3</td>\n",
       "      <td>7</td>\n",
       "      <td>2170</td>\n",
       "      <td>400</td>\n",
       "      <td>1951</td>\n",
       "      <td>1991</td>\n",
       "      <td>98125</td>\n",
       "      <td>47.7210</td>\n",
       "      <td>-122.319</td>\n",
       "      <td>1690</td>\n",
       "      <td>7639</td>\n",
       "    </tr>\n",
       "    <tr>\n",
       "      <td>2</td>\n",
       "      <td>180000</td>\n",
       "      <td>2</td>\n",
       "      <td>1.00</td>\n",
       "      <td>770</td>\n",
       "      <td>10000</td>\n",
       "      <td>1.0</td>\n",
       "      <td>0</td>\n",
       "      <td>0</td>\n",
       "      <td>3</td>\n",
       "      <td>6</td>\n",
       "      <td>770</td>\n",
       "      <td>0</td>\n",
       "      <td>1933</td>\n",
       "      <td>0</td>\n",
       "      <td>98028</td>\n",
       "      <td>47.7379</td>\n",
       "      <td>-122.233</td>\n",
       "      <td>2720</td>\n",
       "      <td>8062</td>\n",
       "    </tr>\n",
       "    <tr>\n",
       "      <td>3</td>\n",
       "      <td>604000</td>\n",
       "      <td>4</td>\n",
       "      <td>3.00</td>\n",
       "      <td>1960</td>\n",
       "      <td>5000</td>\n",
       "      <td>1.0</td>\n",
       "      <td>0</td>\n",
       "      <td>0</td>\n",
       "      <td>5</td>\n",
       "      <td>7</td>\n",
       "      <td>1050</td>\n",
       "      <td>910</td>\n",
       "      <td>1965</td>\n",
       "      <td>0</td>\n",
       "      <td>98136</td>\n",
       "      <td>47.5208</td>\n",
       "      <td>-122.393</td>\n",
       "      <td>1360</td>\n",
       "      <td>5000</td>\n",
       "    </tr>\n",
       "    <tr>\n",
       "      <td>4</td>\n",
       "      <td>510000</td>\n",
       "      <td>3</td>\n",
       "      <td>2.00</td>\n",
       "      <td>1680</td>\n",
       "      <td>8080</td>\n",
       "      <td>1.0</td>\n",
       "      <td>0</td>\n",
       "      <td>0</td>\n",
       "      <td>3</td>\n",
       "      <td>8</td>\n",
       "      <td>1680</td>\n",
       "      <td>0</td>\n",
       "      <td>1987</td>\n",
       "      <td>0</td>\n",
       "      <td>98074</td>\n",
       "      <td>47.6168</td>\n",
       "      <td>-122.045</td>\n",
       "      <td>1800</td>\n",
       "      <td>7503</td>\n",
       "    </tr>\n",
       "  </tbody>\n",
       "</table>\n",
       "</div>"
      ],
      "text/plain": [
       "    price  bedrooms  bathrooms  sqft_living  sqft_lot  floors  waterfront  \\\n",
       "0  221900         3       1.00         1180      5650     1.0           0   \n",
       "1  538000         3       2.25         2570      7242     2.0           0   \n",
       "2  180000         2       1.00          770     10000     1.0           0   \n",
       "3  604000         4       3.00         1960      5000     1.0           0   \n",
       "4  510000         3       2.00         1680      8080     1.0           0   \n",
       "\n",
       "   view  condition  grade  sqft_above  sqft_basement  yr_built  yr_renovated  \\\n",
       "0     0          3      7        1180              0      1955             0   \n",
       "1     0          3      7        2170            400      1951          1991   \n",
       "2     0          3      6         770              0      1933             0   \n",
       "3     0          5      7        1050            910      1965             0   \n",
       "4     0          3      8        1680              0      1987             0   \n",
       "\n",
       "   zipcode      lat     long  sqft_living15  sqft_lot15  \n",
       "0    98178  47.5112 -122.257           1340        5650  \n",
       "1    98125  47.7210 -122.319           1690        7639  \n",
       "2    98028  47.7379 -122.233           2720        8062  \n",
       "3    98136  47.5208 -122.393           1360        5000  \n",
       "4    98074  47.6168 -122.045           1800        7503  "
      ]
     },
     "execution_count": 9,
     "metadata": {},
     "output_type": "execute_result"
    }
   ],
   "source": [
    "df.head()"
   ]
  },
  {
   "cell_type": "code",
   "execution_count": 10,
   "metadata": {},
   "outputs": [
    {
     "data": {
      "text/plain": [
       "Index(['price', 'bedrooms', 'bathrooms', 'sqft_living', 'sqft_lot', 'floors',\n",
       "       'waterfront', 'view', 'condition', 'grade', 'sqft_above',\n",
       "       'sqft_basement', 'yr_built', 'yr_renovated', 'zipcode', 'lat', 'long',\n",
       "       'sqft_living15', 'sqft_lot15'],\n",
       "      dtype='object')"
      ]
     },
     "execution_count": 10,
     "metadata": {},
     "output_type": "execute_result"
    }
   ],
   "source": [
    "df.columns"
   ]
  },
  {
   "cell_type": "code",
   "execution_count": 11,
   "metadata": {},
   "outputs": [],
   "source": [
    "for column in df.columns:\n",
    "    if df[column].isnull().any():\n",
    "        print(\"The {} has {} null values\".format(column, df[column].isnull().sum()))"
   ]
  },
  {
   "cell_type": "code",
   "execution_count": 12,
   "metadata": {},
   "outputs": [
    {
     "data": {
      "text/html": [
       "<div>\n",
       "<style scoped>\n",
       "    .dataframe tbody tr th:only-of-type {\n",
       "        vertical-align: middle;\n",
       "    }\n",
       "\n",
       "    .dataframe tbody tr th {\n",
       "        vertical-align: top;\n",
       "    }\n",
       "\n",
       "    .dataframe thead th {\n",
       "        text-align: right;\n",
       "    }\n",
       "</style>\n",
       "<table border=\"1\" class=\"dataframe\">\n",
       "  <thead>\n",
       "    <tr style=\"text-align: right;\">\n",
       "      <th></th>\n",
       "      <th>price</th>\n",
       "      <th>bedrooms</th>\n",
       "      <th>bathrooms</th>\n",
       "      <th>sqft_living</th>\n",
       "      <th>sqft_lot</th>\n",
       "      <th>floors</th>\n",
       "      <th>waterfront</th>\n",
       "      <th>view</th>\n",
       "      <th>condition</th>\n",
       "      <th>grade</th>\n",
       "      <th>sqft_above</th>\n",
       "      <th>sqft_basement</th>\n",
       "      <th>yr_built</th>\n",
       "      <th>yr_renovated</th>\n",
       "      <th>zipcode</th>\n",
       "      <th>lat</th>\n",
       "      <th>long</th>\n",
       "      <th>sqft_living15</th>\n",
       "      <th>sqft_lot15</th>\n",
       "    </tr>\n",
       "  </thead>\n",
       "  <tbody>\n",
       "    <tr>\n",
       "      <td>count</td>\n",
       "      <td>2.161300e+04</td>\n",
       "      <td>21613.000000</td>\n",
       "      <td>21613.000000</td>\n",
       "      <td>21613.000000</td>\n",
       "      <td>2.161300e+04</td>\n",
       "      <td>21613.000000</td>\n",
       "      <td>21613.000000</td>\n",
       "      <td>21613.000000</td>\n",
       "      <td>21613.000000</td>\n",
       "      <td>21613.000000</td>\n",
       "      <td>21613.000000</td>\n",
       "      <td>21613.000000</td>\n",
       "      <td>21613.000000</td>\n",
       "      <td>21613.000000</td>\n",
       "      <td>21613.000000</td>\n",
       "      <td>21613.000000</td>\n",
       "      <td>21613.000000</td>\n",
       "      <td>21613.000000</td>\n",
       "      <td>21613.000000</td>\n",
       "    </tr>\n",
       "    <tr>\n",
       "      <td>mean</td>\n",
       "      <td>5.400881e+05</td>\n",
       "      <td>3.370842</td>\n",
       "      <td>2.114757</td>\n",
       "      <td>2079.899736</td>\n",
       "      <td>1.510697e+04</td>\n",
       "      <td>1.494309</td>\n",
       "      <td>0.007542</td>\n",
       "      <td>0.234303</td>\n",
       "      <td>3.409430</td>\n",
       "      <td>7.656873</td>\n",
       "      <td>1788.390691</td>\n",
       "      <td>291.509045</td>\n",
       "      <td>1971.005136</td>\n",
       "      <td>84.402258</td>\n",
       "      <td>98077.939805</td>\n",
       "      <td>47.560053</td>\n",
       "      <td>-122.213896</td>\n",
       "      <td>1986.552492</td>\n",
       "      <td>12768.455652</td>\n",
       "    </tr>\n",
       "    <tr>\n",
       "      <td>std</td>\n",
       "      <td>3.671272e+05</td>\n",
       "      <td>0.930062</td>\n",
       "      <td>0.770163</td>\n",
       "      <td>918.440897</td>\n",
       "      <td>4.142051e+04</td>\n",
       "      <td>0.539989</td>\n",
       "      <td>0.086517</td>\n",
       "      <td>0.766318</td>\n",
       "      <td>0.650743</td>\n",
       "      <td>1.175459</td>\n",
       "      <td>828.090978</td>\n",
       "      <td>442.575043</td>\n",
       "      <td>29.373411</td>\n",
       "      <td>401.679240</td>\n",
       "      <td>53.505026</td>\n",
       "      <td>0.138564</td>\n",
       "      <td>0.140828</td>\n",
       "      <td>685.391304</td>\n",
       "      <td>27304.179631</td>\n",
       "    </tr>\n",
       "    <tr>\n",
       "      <td>min</td>\n",
       "      <td>7.500000e+04</td>\n",
       "      <td>0.000000</td>\n",
       "      <td>0.000000</td>\n",
       "      <td>290.000000</td>\n",
       "      <td>5.200000e+02</td>\n",
       "      <td>1.000000</td>\n",
       "      <td>0.000000</td>\n",
       "      <td>0.000000</td>\n",
       "      <td>1.000000</td>\n",
       "      <td>1.000000</td>\n",
       "      <td>290.000000</td>\n",
       "      <td>0.000000</td>\n",
       "      <td>1900.000000</td>\n",
       "      <td>0.000000</td>\n",
       "      <td>98001.000000</td>\n",
       "      <td>47.155900</td>\n",
       "      <td>-122.519000</td>\n",
       "      <td>399.000000</td>\n",
       "      <td>651.000000</td>\n",
       "    </tr>\n",
       "    <tr>\n",
       "      <td>25%</td>\n",
       "      <td>3.219500e+05</td>\n",
       "      <td>3.000000</td>\n",
       "      <td>1.750000</td>\n",
       "      <td>1427.000000</td>\n",
       "      <td>5.040000e+03</td>\n",
       "      <td>1.000000</td>\n",
       "      <td>0.000000</td>\n",
       "      <td>0.000000</td>\n",
       "      <td>3.000000</td>\n",
       "      <td>7.000000</td>\n",
       "      <td>1190.000000</td>\n",
       "      <td>0.000000</td>\n",
       "      <td>1951.000000</td>\n",
       "      <td>0.000000</td>\n",
       "      <td>98033.000000</td>\n",
       "      <td>47.471000</td>\n",
       "      <td>-122.328000</td>\n",
       "      <td>1490.000000</td>\n",
       "      <td>5100.000000</td>\n",
       "    </tr>\n",
       "    <tr>\n",
       "      <td>50%</td>\n",
       "      <td>4.500000e+05</td>\n",
       "      <td>3.000000</td>\n",
       "      <td>2.250000</td>\n",
       "      <td>1910.000000</td>\n",
       "      <td>7.618000e+03</td>\n",
       "      <td>1.500000</td>\n",
       "      <td>0.000000</td>\n",
       "      <td>0.000000</td>\n",
       "      <td>3.000000</td>\n",
       "      <td>7.000000</td>\n",
       "      <td>1560.000000</td>\n",
       "      <td>0.000000</td>\n",
       "      <td>1975.000000</td>\n",
       "      <td>0.000000</td>\n",
       "      <td>98065.000000</td>\n",
       "      <td>47.571800</td>\n",
       "      <td>-122.230000</td>\n",
       "      <td>1840.000000</td>\n",
       "      <td>7620.000000</td>\n",
       "    </tr>\n",
       "    <tr>\n",
       "      <td>75%</td>\n",
       "      <td>6.450000e+05</td>\n",
       "      <td>4.000000</td>\n",
       "      <td>2.500000</td>\n",
       "      <td>2550.000000</td>\n",
       "      <td>1.068800e+04</td>\n",
       "      <td>2.000000</td>\n",
       "      <td>0.000000</td>\n",
       "      <td>0.000000</td>\n",
       "      <td>4.000000</td>\n",
       "      <td>8.000000</td>\n",
       "      <td>2210.000000</td>\n",
       "      <td>560.000000</td>\n",
       "      <td>1997.000000</td>\n",
       "      <td>0.000000</td>\n",
       "      <td>98118.000000</td>\n",
       "      <td>47.678000</td>\n",
       "      <td>-122.125000</td>\n",
       "      <td>2360.000000</td>\n",
       "      <td>10083.000000</td>\n",
       "    </tr>\n",
       "    <tr>\n",
       "      <td>max</td>\n",
       "      <td>7.700000e+06</td>\n",
       "      <td>33.000000</td>\n",
       "      <td>8.000000</td>\n",
       "      <td>13540.000000</td>\n",
       "      <td>1.651359e+06</td>\n",
       "      <td>3.500000</td>\n",
       "      <td>1.000000</td>\n",
       "      <td>4.000000</td>\n",
       "      <td>5.000000</td>\n",
       "      <td>13.000000</td>\n",
       "      <td>9410.000000</td>\n",
       "      <td>4820.000000</td>\n",
       "      <td>2015.000000</td>\n",
       "      <td>2015.000000</td>\n",
       "      <td>98199.000000</td>\n",
       "      <td>47.777600</td>\n",
       "      <td>-121.315000</td>\n",
       "      <td>6210.000000</td>\n",
       "      <td>871200.000000</td>\n",
       "    </tr>\n",
       "  </tbody>\n",
       "</table>\n",
       "</div>"
      ],
      "text/plain": [
       "              price      bedrooms     bathrooms   sqft_living      sqft_lot  \\\n",
       "count  2.161300e+04  21613.000000  21613.000000  21613.000000  2.161300e+04   \n",
       "mean   5.400881e+05      3.370842      2.114757   2079.899736  1.510697e+04   \n",
       "std    3.671272e+05      0.930062      0.770163    918.440897  4.142051e+04   \n",
       "min    7.500000e+04      0.000000      0.000000    290.000000  5.200000e+02   \n",
       "25%    3.219500e+05      3.000000      1.750000   1427.000000  5.040000e+03   \n",
       "50%    4.500000e+05      3.000000      2.250000   1910.000000  7.618000e+03   \n",
       "75%    6.450000e+05      4.000000      2.500000   2550.000000  1.068800e+04   \n",
       "max    7.700000e+06     33.000000      8.000000  13540.000000  1.651359e+06   \n",
       "\n",
       "             floors    waterfront          view     condition         grade  \\\n",
       "count  21613.000000  21613.000000  21613.000000  21613.000000  21613.000000   \n",
       "mean       1.494309      0.007542      0.234303      3.409430      7.656873   \n",
       "std        0.539989      0.086517      0.766318      0.650743      1.175459   \n",
       "min        1.000000      0.000000      0.000000      1.000000      1.000000   \n",
       "25%        1.000000      0.000000      0.000000      3.000000      7.000000   \n",
       "50%        1.500000      0.000000      0.000000      3.000000      7.000000   \n",
       "75%        2.000000      0.000000      0.000000      4.000000      8.000000   \n",
       "max        3.500000      1.000000      4.000000      5.000000     13.000000   \n",
       "\n",
       "         sqft_above  sqft_basement      yr_built  yr_renovated       zipcode  \\\n",
       "count  21613.000000   21613.000000  21613.000000  21613.000000  21613.000000   \n",
       "mean    1788.390691     291.509045   1971.005136     84.402258  98077.939805   \n",
       "std      828.090978     442.575043     29.373411    401.679240     53.505026   \n",
       "min      290.000000       0.000000   1900.000000      0.000000  98001.000000   \n",
       "25%     1190.000000       0.000000   1951.000000      0.000000  98033.000000   \n",
       "50%     1560.000000       0.000000   1975.000000      0.000000  98065.000000   \n",
       "75%     2210.000000     560.000000   1997.000000      0.000000  98118.000000   \n",
       "max     9410.000000    4820.000000   2015.000000   2015.000000  98199.000000   \n",
       "\n",
       "                lat          long  sqft_living15     sqft_lot15  \n",
       "count  21613.000000  21613.000000   21613.000000   21613.000000  \n",
       "mean      47.560053   -122.213896    1986.552492   12768.455652  \n",
       "std        0.138564      0.140828     685.391304   27304.179631  \n",
       "min       47.155900   -122.519000     399.000000     651.000000  \n",
       "25%       47.471000   -122.328000    1490.000000    5100.000000  \n",
       "50%       47.571800   -122.230000    1840.000000    7620.000000  \n",
       "75%       47.678000   -122.125000    2360.000000   10083.000000  \n",
       "max       47.777600   -121.315000    6210.000000  871200.000000  "
      ]
     },
     "execution_count": 12,
     "metadata": {},
     "output_type": "execute_result"
    }
   ],
   "source": [
    "df.describe()"
   ]
  },
  {
   "cell_type": "code",
   "execution_count": 13,
   "metadata": {},
   "outputs": [
    {
     "data": {
      "text/plain": [
       "{'whiskers': [<matplotlib.lines.Line2D at 0x227a4480648>,\n",
       "  <matplotlib.lines.Line2D at 0x227a4480bc8>],\n",
       " 'caps': [<matplotlib.lines.Line2D at 0x227a4480cc8>,\n",
       "  <matplotlib.lines.Line2D at 0x227a4480d48>],\n",
       " 'boxes': [<matplotlib.lines.Line2D at 0x227a37564c8>],\n",
       " 'medians': [<matplotlib.lines.Line2D at 0x227a448cc48>],\n",
       " 'fliers': [<matplotlib.lines.Line2D at 0x227a3970808>],\n",
       " 'means': []}"
      ]
     },
     "execution_count": 13,
     "metadata": {},
     "output_type": "execute_result"
    },
    {
     "data": {
      "image/png": "[encoded data removed]",
      "text/plain": [
       "<Figure size 432x288 with 1 Axes>"
      ]
     },
     "metadata": {
      "needs_background": "light"
     },
     "output_type": "display_data"
    }
   ],
   "source": [
    "plt.boxplot(df['bedrooms'], widths=0.5)"
   ]
  },
  {
   "cell_type": "code",
   "execution_count": 14,
   "metadata": {},
   "outputs": [
    {
     "data": {
      "text/plain": [
       "3     9824\n",
       "4     6882\n",
       "2     2760\n",
       "5     1601\n",
       "6      272\n",
       "1      199\n",
       "7       38\n",
       "8       13\n",
       "0       13\n",
       "9        6\n",
       "10       3\n",
       "11       1\n",
       "33       1\n",
       "Name: bedrooms, dtype: int64"
      ]
     },
     "execution_count": 14,
     "metadata": {},
     "output_type": "execute_result"
    }
   ],
   "source": [
    "df['bedrooms'].value_counts()"
   ]
  },
  {
   "cell_type": "code",
   "execution_count": 15,
   "metadata": {},
   "outputs": [
    {
     "data": {
      "text/plain": [
       "price              int64\n",
       "bedrooms           int64\n",
       "bathrooms        float64\n",
       "sqft_living        int64\n",
       "sqft_lot           int64\n",
       "floors           float64\n",
       "waterfront         int64\n",
       "view               int64\n",
       "condition          int64\n",
       "grade              int64\n",
       "sqft_above         int64\n",
       "sqft_basement      int64\n",
       "yr_built           int64\n",
       "yr_renovated       int64\n",
       "zipcode            int64\n",
       "lat              float64\n",
       "long             float64\n",
       "sqft_living15      int64\n",
       "sqft_lot15         int64\n",
       "dtype: object"
      ]
     },
     "execution_count": 15,
     "metadata": {},
     "output_type": "execute_result"
    }
   ],
   "source": [
    "df.dtypes"
   ]
  },
  {
   "cell_type": "code",
   "execution_count": 16,
   "metadata": {},
   "outputs": [],
   "source": [
    "# removing rows having bedrooms 33 and 11 sonce they are outliers\n",
    "df.drop(df[df['bedrooms']==33].index, inplace=True, axis=0)\n",
    "df.drop(df[df['bedrooms']==11].index, inplace=True, axis=0)"
   ]
  },
  {
   "cell_type": "code",
   "execution_count": 17,
   "metadata": {},
   "outputs": [
    {
     "data": {
      "text/plain": [
       "3     9824\n",
       "4     6882\n",
       "2     2760\n",
       "5     1601\n",
       "6      272\n",
       "1      199\n",
       "7       38\n",
       "8       13\n",
       "0       13\n",
       "9        6\n",
       "10       3\n",
       "Name: bedrooms, dtype: int64"
      ]
     },
     "execution_count": 17,
     "metadata": {},
     "output_type": "execute_result"
    }
   ],
   "source": [
    "df['bedrooms'].value_counts()"
   ]
  },
  {
   "cell_type": "code",
   "execution_count": 18,
   "metadata": {},
   "outputs": [
    {
     "data": {
      "text/html": [
       "<div>\n",
       "<style scoped>\n",
       "    .dataframe tbody tr th:only-of-type {\n",
       "        vertical-align: middle;\n",
       "    }\n",
       "\n",
       "    .dataframe tbody tr th {\n",
       "        vertical-align: top;\n",
       "    }\n",
       "\n",
       "    .dataframe thead th {\n",
       "        text-align: right;\n",
       "    }\n",
       "</style>\n",
       "<table border=\"1\" class=\"dataframe\">\n",
       "  <thead>\n",
       "    <tr style=\"text-align: right;\">\n",
       "      <th></th>\n",
       "      <th>price</th>\n",
       "      <th>bedrooms</th>\n",
       "      <th>bathrooms</th>\n",
       "      <th>sqft_living</th>\n",
       "      <th>sqft_lot</th>\n",
       "      <th>floors</th>\n",
       "      <th>waterfront</th>\n",
       "      <th>view</th>\n",
       "      <th>condition</th>\n",
       "      <th>grade</th>\n",
       "      <th>sqft_above</th>\n",
       "      <th>sqft_basement</th>\n",
       "      <th>yr_built</th>\n",
       "      <th>yr_renovated</th>\n",
       "      <th>zipcode</th>\n",
       "      <th>lat</th>\n",
       "      <th>long</th>\n",
       "      <th>sqft_living15</th>\n",
       "      <th>sqft_lot15</th>\n",
       "    </tr>\n",
       "  </thead>\n",
       "  <tbody>\n",
       "    <tr>\n",
       "      <td>count</td>\n",
       "      <td>2.161100e+04</td>\n",
       "      <td>21611.000000</td>\n",
       "      <td>21611.000000</td>\n",
       "      <td>21611.000000</td>\n",
       "      <td>2.161100e+04</td>\n",
       "      <td>21611.000000</td>\n",
       "      <td>21611.000000</td>\n",
       "      <td>21611.000000</td>\n",
       "      <td>21611.000000</td>\n",
       "      <td>21611.000000</td>\n",
       "      <td>21611.000000</td>\n",
       "      <td>21611.000000</td>\n",
       "      <td>21611.000000</td>\n",
       "      <td>21611.000000</td>\n",
       "      <td>21611.000000</td>\n",
       "      <td>21611.000000</td>\n",
       "      <td>21611.000000</td>\n",
       "      <td>21611.000000</td>\n",
       "      <td>21611.000000</td>\n",
       "    </tr>\n",
       "    <tr>\n",
       "      <td>mean</td>\n",
       "      <td>5.400844e+05</td>\n",
       "      <td>3.369118</td>\n",
       "      <td>2.114733</td>\n",
       "      <td>2079.878442</td>\n",
       "      <td>1.510786e+04</td>\n",
       "      <td>1.494308</td>\n",
       "      <td>0.007542</td>\n",
       "      <td>0.234325</td>\n",
       "      <td>3.409375</td>\n",
       "      <td>7.656934</td>\n",
       "      <td>1788.397020</td>\n",
       "      <td>291.481421</td>\n",
       "      <td>1971.008699</td>\n",
       "      <td>84.317570</td>\n",
       "      <td>98077.937347</td>\n",
       "      <td>47.560047</td>\n",
       "      <td>-122.213884</td>\n",
       "      <td>1986.609088</td>\n",
       "      <td>12769.190320</td>\n",
       "    </tr>\n",
       "    <tr>\n",
       "      <td>std</td>\n",
       "      <td>3.671435e+05</td>\n",
       "      <td>0.906518</td>\n",
       "      <td>0.770171</td>\n",
       "      <td>918.456742</td>\n",
       "      <td>4.142232e+04</td>\n",
       "      <td>0.539992</td>\n",
       "      <td>0.086521</td>\n",
       "      <td>0.766350</td>\n",
       "      <td>0.650677</td>\n",
       "      <td>1.175496</td>\n",
       "      <td>828.103196</td>\n",
       "      <td>442.586196</td>\n",
       "      <td>29.372103</td>\n",
       "      <td>401.486212</td>\n",
       "      <td>53.506890</td>\n",
       "      <td>0.138567</td>\n",
       "      <td>0.140829</td>\n",
       "      <td>685.397631</td>\n",
       "      <td>27305.336262</td>\n",
       "    </tr>\n",
       "    <tr>\n",
       "      <td>min</td>\n",
       "      <td>7.500000e+04</td>\n",
       "      <td>0.000000</td>\n",
       "      <td>0.000000</td>\n",
       "      <td>290.000000</td>\n",
       "      <td>5.200000e+02</td>\n",
       "      <td>1.000000</td>\n",
       "      <td>0.000000</td>\n",
       "      <td>0.000000</td>\n",
       "      <td>1.000000</td>\n",
       "      <td>1.000000</td>\n",
       "      <td>290.000000</td>\n",
       "      <td>0.000000</td>\n",
       "      <td>1900.000000</td>\n",
       "      <td>0.000000</td>\n",
       "      <td>98001.000000</td>\n",
       "      <td>47.155900</td>\n",
       "      <td>-122.519000</td>\n",
       "      <td>399.000000</td>\n",
       "      <td>651.000000</td>\n",
       "    </tr>\n",
       "    <tr>\n",
       "      <td>25%</td>\n",
       "      <td>3.217250e+05</td>\n",
       "      <td>3.000000</td>\n",
       "      <td>1.750000</td>\n",
       "      <td>1426.000000</td>\n",
       "      <td>5.040000e+03</td>\n",
       "      <td>1.000000</td>\n",
       "      <td>0.000000</td>\n",
       "      <td>0.000000</td>\n",
       "      <td>3.000000</td>\n",
       "      <td>7.000000</td>\n",
       "      <td>1190.000000</td>\n",
       "      <td>0.000000</td>\n",
       "      <td>1951.000000</td>\n",
       "      <td>0.000000</td>\n",
       "      <td>98033.000000</td>\n",
       "      <td>47.470950</td>\n",
       "      <td>-122.328000</td>\n",
       "      <td>1490.000000</td>\n",
       "      <td>5100.000000</td>\n",
       "    </tr>\n",
       "    <tr>\n",
       "      <td>50%</td>\n",
       "      <td>4.500000e+05</td>\n",
       "      <td>3.000000</td>\n",
       "      <td>2.250000</td>\n",
       "      <td>1910.000000</td>\n",
       "      <td>7.620000e+03</td>\n",
       "      <td>1.500000</td>\n",
       "      <td>0.000000</td>\n",
       "      <td>0.000000</td>\n",
       "      <td>3.000000</td>\n",
       "      <td>7.000000</td>\n",
       "      <td>1560.000000</td>\n",
       "      <td>0.000000</td>\n",
       "      <td>1975.000000</td>\n",
       "      <td>0.000000</td>\n",
       "      <td>98065.000000</td>\n",
       "      <td>47.571800</td>\n",
       "      <td>-122.230000</td>\n",
       "      <td>1840.000000</td>\n",
       "      <td>7620.000000</td>\n",
       "    </tr>\n",
       "    <tr>\n",
       "      <td>75%</td>\n",
       "      <td>6.450000e+05</td>\n",
       "      <td>4.000000</td>\n",
       "      <td>2.500000</td>\n",
       "      <td>2550.000000</td>\n",
       "      <td>1.068850e+04</td>\n",
       "      <td>2.000000</td>\n",
       "      <td>0.000000</td>\n",
       "      <td>0.000000</td>\n",
       "      <td>4.000000</td>\n",
       "      <td>8.000000</td>\n",
       "      <td>2210.000000</td>\n",
       "      <td>560.000000</td>\n",
       "      <td>1997.000000</td>\n",
       "      <td>0.000000</td>\n",
       "      <td>98118.000000</td>\n",
       "      <td>47.678000</td>\n",
       "      <td>-122.125000</td>\n",
       "      <td>2360.000000</td>\n",
       "      <td>10083.500000</td>\n",
       "    </tr>\n",
       "    <tr>\n",
       "      <td>max</td>\n",
       "      <td>7.700000e+06</td>\n",
       "      <td>10.000000</td>\n",
       "      <td>8.000000</td>\n",
       "      <td>13540.000000</td>\n",
       "      <td>1.651359e+06</td>\n",
       "      <td>3.500000</td>\n",
       "      <td>1.000000</td>\n",
       "      <td>4.000000</td>\n",
       "      <td>5.000000</td>\n",
       "      <td>13.000000</td>\n",
       "      <td>9410.000000</td>\n",
       "      <td>4820.000000</td>\n",
       "      <td>2015.000000</td>\n",
       "      <td>2015.000000</td>\n",
       "      <td>98199.000000</td>\n",
       "      <td>47.777600</td>\n",
       "      <td>-121.315000</td>\n",
       "      <td>6210.000000</td>\n",
       "      <td>871200.000000</td>\n",
       "    </tr>\n",
       "  </tbody>\n",
       "</table>\n",
       "</div>"
      ],
      "text/plain": [
       "              price      bedrooms     bathrooms   sqft_living      sqft_lot  \\\n",
       "count  2.161100e+04  21611.000000  21611.000000  21611.000000  2.161100e+04   \n",
       "mean   5.400844e+05      3.369118      2.114733   2079.878442  1.510786e+04   \n",
       "std    3.671435e+05      0.906518      0.770171    918.456742  4.142232e+04   \n",
       "min    7.500000e+04      0.000000      0.000000    290.000000  5.200000e+02   \n",
       "25%    3.217250e+05      3.000000      1.750000   1426.000000  5.040000e+03   \n",
       "50%    4.500000e+05      3.000000      2.250000   1910.000000  7.620000e+03   \n",
       "75%    6.450000e+05      4.000000      2.500000   2550.000000  1.068850e+04   \n",
       "max    7.700000e+06     10.000000      8.000000  13540.000000  1.651359e+06   \n",
       "\n",
       "             floors    waterfront          view     condition         grade  \\\n",
       "count  21611.000000  21611.000000  21611.000000  21611.000000  21611.000000   \n",
       "mean       1.494308      0.007542      0.234325      3.409375      7.656934   \n",
       "std        0.539992      0.086521      0.766350      0.650677      1.175496   \n",
       "min        1.000000      0.000000      0.000000      1.000000      1.000000   \n",
       "25%        1.000000      0.000000      0.000000      3.000000      7.000000   \n",
       "50%        1.500000      0.000000      0.000000      3.000000      7.000000   \n",
       "75%        2.000000      0.000000      0.000000      4.000000      8.000000   \n",
       "max        3.500000      1.000000      4.000000      5.000000     13.000000   \n",
       "\n",
       "         sqft_above  sqft_basement      yr_built  yr_renovated       zipcode  \\\n",
       "count  21611.000000   21611.000000  21611.000000  21611.000000  21611.000000   \n",
       "mean    1788.397020     291.481421   1971.008699     84.317570  98077.937347   \n",
       "std      828.103196     442.586196     29.372103    401.486212     53.506890   \n",
       "min      290.000000       0.000000   1900.000000      0.000000  98001.000000   \n",
       "25%     1190.000000       0.000000   1951.000000      0.000000  98033.000000   \n",
       "50%     1560.000000       0.000000   1975.000000      0.000000  98065.000000   \n",
       "75%     2210.000000     560.000000   1997.000000      0.000000  98118.000000   \n",
       "max     9410.000000    4820.000000   2015.000000   2015.000000  98199.000000   \n",
       "\n",
       "                lat          long  sqft_living15     sqft_lot15  \n",
       "count  21611.000000  21611.000000   21611.000000   21611.000000  \n",
       "mean      47.560047   -122.213884    1986.609088   12769.190320  \n",
       "std        0.138567      0.140829     685.397631   27305.336262  \n",
       "min       47.155900   -122.519000     399.000000     651.000000  \n",
       "25%       47.470950   -122.328000    1490.000000    5100.000000  \n",
       "50%       47.571800   -122.230000    1840.000000    7620.000000  \n",
       "75%       47.678000   -122.125000    2360.000000   10083.500000  \n",
       "max       47.777600   -121.315000    6210.000000  871200.000000  "
      ]
     },
     "execution_count": 18,
     "metadata": {},
     "output_type": "execute_result"
    }
   ],
   "source": [
    "df.describe()"
   ]
  },
  {
   "cell_type": "code",
   "execution_count": 19,
   "metadata": {},
   "outputs": [
    {
     "data": {
      "text/html": [
       "<div>\n",
       "<style scoped>\n",
       "    .dataframe tbody tr th:only-of-type {\n",
       "        vertical-align: middle;\n",
       "    }\n",
       "\n",
       "    .dataframe tbody tr th {\n",
       "        vertical-align: top;\n",
       "    }\n",
       "\n",
       "    .dataframe thead th {\n",
       "        text-align: right;\n",
       "    }\n",
       "</style>\n",
       "<table border=\"1\" class=\"dataframe\">\n",
       "  <thead>\n",
       "    <tr style=\"text-align: right;\">\n",
       "      <th></th>\n",
       "      <th>price</th>\n",
       "      <th>bedrooms</th>\n",
       "      <th>bathrooms</th>\n",
       "      <th>sqft_living</th>\n",
       "      <th>sqft_lot</th>\n",
       "      <th>floors</th>\n",
       "      <th>waterfront</th>\n",
       "      <th>view</th>\n",
       "      <th>condition</th>\n",
       "      <th>grade</th>\n",
       "      <th>sqft_above</th>\n",
       "      <th>sqft_basement</th>\n",
       "      <th>yr_built</th>\n",
       "      <th>yr_renovated</th>\n",
       "      <th>zipcode</th>\n",
       "      <th>lat</th>\n",
       "      <th>long</th>\n",
       "      <th>sqft_living15</th>\n",
       "      <th>sqft_lot15</th>\n",
       "    </tr>\n",
       "  </thead>\n",
       "  <tbody>\n",
       "    <tr>\n",
       "      <td>price</td>\n",
       "      <td>1.000000</td>\n",
       "      <td>0.315983</td>\n",
       "      <td>0.525166</td>\n",
       "      <td>0.702066</td>\n",
       "      <td>0.089663</td>\n",
       "      <td>0.256818</td>\n",
       "      <td>0.266371</td>\n",
       "      <td>0.397299</td>\n",
       "      <td>0.036335</td>\n",
       "      <td>0.667451</td>\n",
       "      <td>0.605601</td>\n",
       "      <td>0.323817</td>\n",
       "      <td>0.054022</td>\n",
       "      <td>0.126515</td>\n",
       "      <td>-0.053208</td>\n",
       "      <td>0.306998</td>\n",
       "      <td>0.021635</td>\n",
       "      <td>0.585412</td>\n",
       "      <td>0.082451</td>\n",
       "    </tr>\n",
       "    <tr>\n",
       "      <td>bedrooms</td>\n",
       "      <td>0.315983</td>\n",
       "      <td>1.000000</td>\n",
       "      <td>0.529594</td>\n",
       "      <td>0.592060</td>\n",
       "      <td>0.032956</td>\n",
       "      <td>0.181020</td>\n",
       "      <td>-0.006588</td>\n",
       "      <td>0.082183</td>\n",
       "      <td>0.025765</td>\n",
       "      <td>0.367323</td>\n",
       "      <td>0.491122</td>\n",
       "      <td>0.309729</td>\n",
       "      <td>0.160143</td>\n",
       "      <td>0.017802</td>\n",
       "      <td>-0.157555</td>\n",
       "      <td>-0.010547</td>\n",
       "      <td>0.134518</td>\n",
       "      <td>0.403613</td>\n",
       "      <td>0.030564</td>\n",
       "    </tr>\n",
       "    <tr>\n",
       "      <td>bathrooms</td>\n",
       "      <td>0.525166</td>\n",
       "      <td>0.529594</td>\n",
       "      <td>1.000000</td>\n",
       "      <td>0.754650</td>\n",
       "      <td>0.087751</td>\n",
       "      <td>0.500621</td>\n",
       "      <td>0.063749</td>\n",
       "      <td>0.187754</td>\n",
       "      <td>-0.124918</td>\n",
       "      <td>0.665033</td>\n",
       "      <td>0.685329</td>\n",
       "      <td>0.283763</td>\n",
       "      <td>0.506162</td>\n",
       "      <td>0.050509</td>\n",
       "      <td>-0.203894</td>\n",
       "      <td>0.024596</td>\n",
       "      <td>0.223097</td>\n",
       "      <td>0.568699</td>\n",
       "      <td>0.087188</td>\n",
       "    </tr>\n",
       "    <tr>\n",
       "      <td>sqft_living</td>\n",
       "      <td>0.702066</td>\n",
       "      <td>0.592060</td>\n",
       "      <td>0.754650</td>\n",
       "      <td>1.000000</td>\n",
       "      <td>0.172837</td>\n",
       "      <td>0.353909</td>\n",
       "      <td>0.103823</td>\n",
       "      <td>0.284628</td>\n",
       "      <td>-0.058677</td>\n",
       "      <td>0.762751</td>\n",
       "      <td>0.876594</td>\n",
       "      <td>0.435048</td>\n",
       "      <td>0.318152</td>\n",
       "      <td>0.055168</td>\n",
       "      <td>-0.199452</td>\n",
       "      <td>0.052555</td>\n",
       "      <td>0.240270</td>\n",
       "      <td>0.756486</td>\n",
       "      <td>0.183298</td>\n",
       "    </tr>\n",
       "    <tr>\n",
       "      <td>sqft_lot</td>\n",
       "      <td>0.089663</td>\n",
       "      <td>0.032956</td>\n",
       "      <td>0.087751</td>\n",
       "      <td>0.172837</td>\n",
       "      <td>1.000000</td>\n",
       "      <td>-0.005200</td>\n",
       "      <td>0.021602</td>\n",
       "      <td>0.074704</td>\n",
       "      <td>-0.008942</td>\n",
       "      <td>0.113611</td>\n",
       "      <td>0.183518</td>\n",
       "      <td>0.015301</td>\n",
       "      <td>0.053057</td>\n",
       "      <td>0.007699</td>\n",
       "      <td>-0.129566</td>\n",
       "      <td>-0.085676</td>\n",
       "      <td>0.229511</td>\n",
       "      <td>0.144595</td>\n",
       "      <td>0.718555</td>\n",
       "    </tr>\n",
       "    <tr>\n",
       "      <td>floors</td>\n",
       "      <td>0.256818</td>\n",
       "      <td>0.181020</td>\n",
       "      <td>0.500621</td>\n",
       "      <td>0.353909</td>\n",
       "      <td>-0.005200</td>\n",
       "      <td>1.000000</td>\n",
       "      <td>0.023699</td>\n",
       "      <td>0.029445</td>\n",
       "      <td>-0.263686</td>\n",
       "      <td>0.458208</td>\n",
       "      <td>0.523852</td>\n",
       "      <td>-0.245722</td>\n",
       "      <td>0.489427</td>\n",
       "      <td>0.006126</td>\n",
       "      <td>-0.059127</td>\n",
       "      <td>0.049657</td>\n",
       "      <td>0.125440</td>\n",
       "      <td>0.279902</td>\n",
       "      <td>-0.011270</td>\n",
       "    </tr>\n",
       "    <tr>\n",
       "      <td>waterfront</td>\n",
       "      <td>0.266371</td>\n",
       "      <td>-0.006588</td>\n",
       "      <td>0.063749</td>\n",
       "      <td>0.103823</td>\n",
       "      <td>0.021602</td>\n",
       "      <td>0.023699</td>\n",
       "      <td>1.000000</td>\n",
       "      <td>0.401857</td>\n",
       "      <td>0.016663</td>\n",
       "      <td>0.082772</td>\n",
       "      <td>0.072076</td>\n",
       "      <td>0.080595</td>\n",
       "      <td>-0.026174</td>\n",
       "      <td>0.092952</td>\n",
       "      <td>0.030289</td>\n",
       "      <td>-0.014270</td>\n",
       "      <td>-0.041920</td>\n",
       "      <td>0.086459</td>\n",
       "      <td>0.030701</td>\n",
       "    </tr>\n",
       "    <tr>\n",
       "      <td>view</td>\n",
       "      <td>0.397299</td>\n",
       "      <td>0.082183</td>\n",
       "      <td>0.187754</td>\n",
       "      <td>0.284628</td>\n",
       "      <td>0.074704</td>\n",
       "      <td>0.029445</td>\n",
       "      <td>0.401857</td>\n",
       "      <td>1.000000</td>\n",
       "      <td>0.046022</td>\n",
       "      <td>0.251309</td>\n",
       "      <td>0.167653</td>\n",
       "      <td>0.276973</td>\n",
       "      <td>-0.053482</td>\n",
       "      <td>0.104037</td>\n",
       "      <td>0.084842</td>\n",
       "      <td>0.006170</td>\n",
       "      <td>-0.078430</td>\n",
       "      <td>0.280425</td>\n",
       "      <td>0.072567</td>\n",
       "    </tr>\n",
       "    <tr>\n",
       "      <td>condition</td>\n",
       "      <td>0.036335</td>\n",
       "      <td>0.025765</td>\n",
       "      <td>-0.124918</td>\n",
       "      <td>-0.058677</td>\n",
       "      <td>-0.008942</td>\n",
       "      <td>-0.263686</td>\n",
       "      <td>0.016663</td>\n",
       "      <td>0.046022</td>\n",
       "      <td>1.000000</td>\n",
       "      <td>-0.144650</td>\n",
       "      <td>-0.158118</td>\n",
       "      <td>0.174081</td>\n",
       "      <td>-0.361463</td>\n",
       "      <td>-0.060496</td>\n",
       "      <td>0.002988</td>\n",
       "      <td>-0.015049</td>\n",
       "      <td>-0.106457</td>\n",
       "      <td>-0.092757</td>\n",
       "      <td>-0.003381</td>\n",
       "    </tr>\n",
       "    <tr>\n",
       "      <td>grade</td>\n",
       "      <td>0.667451</td>\n",
       "      <td>0.367323</td>\n",
       "      <td>0.665033</td>\n",
       "      <td>0.762751</td>\n",
       "      <td>0.113611</td>\n",
       "      <td>0.458208</td>\n",
       "      <td>0.082772</td>\n",
       "      <td>0.251309</td>\n",
       "      <td>-0.144650</td>\n",
       "      <td>1.000000</td>\n",
       "      <td>0.755953</td>\n",
       "      <td>0.168433</td>\n",
       "      <td>0.446942</td>\n",
       "      <td>0.014540</td>\n",
       "      <td>-0.184841</td>\n",
       "      <td>0.114111</td>\n",
       "      <td>0.198334</td>\n",
       "      <td>0.713193</td>\n",
       "      <td>0.119235</td>\n",
       "    </tr>\n",
       "    <tr>\n",
       "      <td>sqft_above</td>\n",
       "      <td>0.605601</td>\n",
       "      <td>0.491122</td>\n",
       "      <td>0.685329</td>\n",
       "      <td>0.876594</td>\n",
       "      <td>0.183518</td>\n",
       "      <td>0.523852</td>\n",
       "      <td>0.072076</td>\n",
       "      <td>0.167653</td>\n",
       "      <td>-0.158118</td>\n",
       "      <td>0.755953</td>\n",
       "      <td>1.000000</td>\n",
       "      <td>-0.051943</td>\n",
       "      <td>0.423978</td>\n",
       "      <td>0.023126</td>\n",
       "      <td>-0.261200</td>\n",
       "      <td>-0.000777</td>\n",
       "      <td>0.343830</td>\n",
       "      <td>0.731909</td>\n",
       "      <td>0.194054</td>\n",
       "    </tr>\n",
       "    <tr>\n",
       "      <td>sqft_basement</td>\n",
       "      <td>0.323817</td>\n",
       "      <td>0.309729</td>\n",
       "      <td>0.283763</td>\n",
       "      <td>0.435048</td>\n",
       "      <td>0.015301</td>\n",
       "      <td>-0.245722</td>\n",
       "      <td>0.080595</td>\n",
       "      <td>0.276973</td>\n",
       "      <td>0.174081</td>\n",
       "      <td>0.168433</td>\n",
       "      <td>-0.051943</td>\n",
       "      <td>1.000000</td>\n",
       "      <td>-0.133056</td>\n",
       "      <td>0.071215</td>\n",
       "      <td>0.074816</td>\n",
       "      <td>0.110516</td>\n",
       "      <td>-0.144715</td>\n",
       "      <td>0.200422</td>\n",
       "      <td>0.017295</td>\n",
       "    </tr>\n",
       "    <tr>\n",
       "      <td>yr_built</td>\n",
       "      <td>0.054022</td>\n",
       "      <td>0.160143</td>\n",
       "      <td>0.506162</td>\n",
       "      <td>0.318152</td>\n",
       "      <td>0.053057</td>\n",
       "      <td>0.489427</td>\n",
       "      <td>-0.026174</td>\n",
       "      <td>-0.053482</td>\n",
       "      <td>-0.361463</td>\n",
       "      <td>0.446942</td>\n",
       "      <td>0.423978</td>\n",
       "      <td>-0.133056</td>\n",
       "      <td>1.000000</td>\n",
       "      <td>-0.224622</td>\n",
       "      <td>-0.346843</td>\n",
       "      <td>-0.148106</td>\n",
       "      <td>0.409291</td>\n",
       "      <td>0.326165</td>\n",
       "      <td>0.070930</td>\n",
       "    </tr>\n",
       "    <tr>\n",
       "      <td>yr_renovated</td>\n",
       "      <td>0.126515</td>\n",
       "      <td>0.017802</td>\n",
       "      <td>0.050509</td>\n",
       "      <td>0.055168</td>\n",
       "      <td>0.007699</td>\n",
       "      <td>0.006126</td>\n",
       "      <td>0.092952</td>\n",
       "      <td>0.104037</td>\n",
       "      <td>-0.060496</td>\n",
       "      <td>0.014540</td>\n",
       "      <td>0.023126</td>\n",
       "      <td>0.071215</td>\n",
       "      <td>-0.224622</td>\n",
       "      <td>1.000000</td>\n",
       "      <td>0.064281</td>\n",
       "      <td>0.029429</td>\n",
       "      <td>-0.068186</td>\n",
       "      <td>-0.002501</td>\n",
       "      <td>0.007918</td>\n",
       "    </tr>\n",
       "    <tr>\n",
       "      <td>zipcode</td>\n",
       "      <td>-0.053208</td>\n",
       "      <td>-0.157555</td>\n",
       "      <td>-0.203894</td>\n",
       "      <td>-0.199452</td>\n",
       "      <td>-0.129566</td>\n",
       "      <td>-0.059127</td>\n",
       "      <td>0.030289</td>\n",
       "      <td>0.084842</td>\n",
       "      <td>0.002988</td>\n",
       "      <td>-0.184841</td>\n",
       "      <td>-0.261200</td>\n",
       "      <td>0.074816</td>\n",
       "      <td>-0.346843</td>\n",
       "      <td>0.064281</td>\n",
       "      <td>1.000000</td>\n",
       "      <td>0.267037</td>\n",
       "      <td>-0.564058</td>\n",
       "      <td>-0.279006</td>\n",
       "      <td>-0.147210</td>\n",
       "    </tr>\n",
       "    <tr>\n",
       "      <td>lat</td>\n",
       "      <td>0.306998</td>\n",
       "      <td>-0.010547</td>\n",
       "      <td>0.024596</td>\n",
       "      <td>0.052555</td>\n",
       "      <td>-0.085676</td>\n",
       "      <td>0.049657</td>\n",
       "      <td>-0.014270</td>\n",
       "      <td>0.006170</td>\n",
       "      <td>-0.015049</td>\n",
       "      <td>0.114111</td>\n",
       "      <td>-0.000777</td>\n",
       "      <td>0.110516</td>\n",
       "      <td>-0.148106</td>\n",
       "      <td>0.029429</td>\n",
       "      <td>0.267037</td>\n",
       "      <td>1.000000</td>\n",
       "      <td>-0.135486</td>\n",
       "      <td>0.048900</td>\n",
       "      <td>-0.086409</td>\n",
       "    </tr>\n",
       "    <tr>\n",
       "      <td>long</td>\n",
       "      <td>0.021635</td>\n",
       "      <td>0.134518</td>\n",
       "      <td>0.223097</td>\n",
       "      <td>0.240270</td>\n",
       "      <td>0.229511</td>\n",
       "      <td>0.125440</td>\n",
       "      <td>-0.041920</td>\n",
       "      <td>-0.078430</td>\n",
       "      <td>-0.106457</td>\n",
       "      <td>0.198334</td>\n",
       "      <td>0.343830</td>\n",
       "      <td>-0.144715</td>\n",
       "      <td>0.409291</td>\n",
       "      <td>-0.068186</td>\n",
       "      <td>-0.564058</td>\n",
       "      <td>-0.135486</td>\n",
       "      <td>1.000000</td>\n",
       "      <td>0.334554</td>\n",
       "      <td>0.254438</td>\n",
       "    </tr>\n",
       "    <tr>\n",
       "      <td>sqft_living15</td>\n",
       "      <td>0.585412</td>\n",
       "      <td>0.403613</td>\n",
       "      <td>0.568699</td>\n",
       "      <td>0.756486</td>\n",
       "      <td>0.144595</td>\n",
       "      <td>0.279902</td>\n",
       "      <td>0.086459</td>\n",
       "      <td>0.280425</td>\n",
       "      <td>-0.092757</td>\n",
       "      <td>0.713193</td>\n",
       "      <td>0.731909</td>\n",
       "      <td>0.200422</td>\n",
       "      <td>0.326165</td>\n",
       "      <td>-0.002501</td>\n",
       "      <td>-0.279006</td>\n",
       "      <td>0.048900</td>\n",
       "      <td>0.334554</td>\n",
       "      <td>1.000000</td>\n",
       "      <td>0.183175</td>\n",
       "    </tr>\n",
       "    <tr>\n",
       "      <td>sqft_lot15</td>\n",
       "      <td>0.082451</td>\n",
       "      <td>0.030564</td>\n",
       "      <td>0.087188</td>\n",
       "      <td>0.183298</td>\n",
       "      <td>0.718555</td>\n",
       "      <td>-0.011270</td>\n",
       "      <td>0.030701</td>\n",
       "      <td>0.072567</td>\n",
       "      <td>-0.003381</td>\n",
       "      <td>0.119235</td>\n",
       "      <td>0.194054</td>\n",
       "      <td>0.017295</td>\n",
       "      <td>0.070930</td>\n",
       "      <td>0.007918</td>\n",
       "      <td>-0.147210</td>\n",
       "      <td>-0.086409</td>\n",
       "      <td>0.254438</td>\n",
       "      <td>0.183175</td>\n",
       "      <td>1.000000</td>\n",
       "    </tr>\n",
       "  </tbody>\n",
       "</table>\n",
       "</div>"
      ],
      "text/plain": [
       "                  price  bedrooms  bathrooms  sqft_living  sqft_lot    floors  \\\n",
       "price          1.000000  0.315983   0.525166     0.702066  0.089663  0.256818   \n",
       "bedrooms       0.315983  1.000000   0.529594     0.592060  0.032956  0.181020   \n",
       "bathrooms      0.525166  0.529594   1.000000     0.754650  0.087751  0.500621   \n",
       "sqft_living    0.702066  0.592060   0.754650     1.000000  0.172837  0.353909   \n",
       "sqft_lot       0.089663  0.032956   0.087751     0.172837  1.000000 -0.005200   \n",
       "floors         0.256818  0.181020   0.500621     0.353909 -0.005200  1.000000   \n",
       "waterfront     0.266371 -0.006588   0.063749     0.103823  0.021602  0.023699   \n",
       "view           0.397299  0.082183   0.187754     0.284628  0.074704  0.029445   \n",
       "condition      0.036335  0.025765  -0.124918    -0.058677 -0.008942 -0.263686   \n",
       "grade          0.667451  0.367323   0.665033     0.762751  0.113611  0.458208   \n",
       "sqft_above     0.605601  0.491122   0.685329     0.876594  0.183518  0.523852   \n",
       "sqft_basement  0.323817  0.309729   0.283763     0.435048  0.015301 -0.245722   \n",
       "yr_built       0.054022  0.160143   0.506162     0.318152  0.053057  0.489427   \n",
       "yr_renovated   0.126515  0.017802   0.050509     0.055168  0.007699  0.006126   \n",
       "zipcode       -0.053208 -0.157555  -0.203894    -0.199452 -0.129566 -0.059127   \n",
       "lat            0.306998 -0.010547   0.024596     0.052555 -0.085676  0.049657   \n",
       "long           0.021635  0.134518   0.223097     0.240270  0.229511  0.125440   \n",
       "sqft_living15  0.585412  0.403613   0.568699     0.756486  0.144595  0.279902   \n",
       "sqft_lot15     0.082451  0.030564   0.087188     0.183298  0.718555 -0.011270   \n",
       "\n",
       "               waterfront      view  condition     grade  sqft_above  \\\n",
       "price            0.266371  0.397299   0.036335  0.667451    0.605601   \n",
       "bedrooms        -0.006588  0.082183   0.025765  0.367323    0.491122   \n",
       "bathrooms        0.063749  0.187754  -0.124918  0.665033    0.685329   \n",
       "sqft_living      0.103823  0.284628  -0.058677  0.762751    0.876594   \n",
       "sqft_lot         0.021602  0.074704  -0.008942  0.113611    0.183518   \n",
       "floors           0.023699  0.029445  -0.263686  0.458208    0.523852   \n",
       "waterfront       1.000000  0.401857   0.016663  0.082772    0.072076   \n",
       "view             0.401857  1.000000   0.046022  0.251309    0.167653   \n",
       "condition        0.016663  0.046022   1.000000 -0.144650   -0.158118   \n",
       "grade            0.082772  0.251309  -0.144650  1.000000    0.755953   \n",
       "sqft_above       0.072076  0.167653  -0.158118  0.755953    1.000000   \n",
       "sqft_basement    0.080595  0.276973   0.174081  0.168433   -0.051943   \n",
       "yr_built        -0.026174 -0.053482  -0.361463  0.446942    0.423978   \n",
       "yr_renovated     0.092952  0.104037  -0.060496  0.014540    0.023126   \n",
       "zipcode          0.030289  0.084842   0.002988 -0.184841   -0.261200   \n",
       "lat             -0.014270  0.006170  -0.015049  0.114111   -0.000777   \n",
       "long            -0.041920 -0.078430  -0.106457  0.198334    0.343830   \n",
       "sqft_living15    0.086459  0.280425  -0.092757  0.713193    0.731909   \n",
       "sqft_lot15       0.030701  0.072567  -0.003381  0.119235    0.194054   \n",
       "\n",
       "               sqft_basement  yr_built  yr_renovated   zipcode       lat  \\\n",
       "price               0.323817  0.054022      0.126515 -0.053208  0.306998   \n",
       "bedrooms            0.309729  0.160143      0.017802 -0.157555 -0.010547   \n",
       "bathrooms           0.283763  0.506162      0.050509 -0.203894  0.024596   \n",
       "sqft_living         0.435048  0.318152      0.055168 -0.199452  0.052555   \n",
       "sqft_lot            0.015301  0.053057      0.007699 -0.129566 -0.085676   \n",
       "floors             -0.245722  0.489427      0.006126 -0.059127  0.049657   \n",
       "waterfront          0.080595 -0.026174      0.092952  0.030289 -0.014270   \n",
       "view                0.276973 -0.053482      0.104037  0.084842  0.006170   \n",
       "condition           0.174081 -0.361463     -0.060496  0.002988 -0.015049   \n",
       "grade               0.168433  0.446942      0.014540 -0.184841  0.114111   \n",
       "sqft_above         -0.051943  0.423978      0.023126 -0.261200 -0.000777   \n",
       "sqft_basement       1.000000 -0.133056      0.071215  0.074816  0.110516   \n",
       "yr_built           -0.133056  1.000000     -0.224622 -0.346843 -0.148106   \n",
       "yr_renovated        0.071215 -0.224622      1.000000  0.064281  0.029429   \n",
       "zipcode             0.074816 -0.346843      0.064281  1.000000  0.267037   \n",
       "lat                 0.110516 -0.148106      0.029429  0.267037  1.000000   \n",
       "long               -0.144715  0.409291     -0.068186 -0.564058 -0.135486   \n",
       "sqft_living15       0.200422  0.326165     -0.002501 -0.279006  0.048900   \n",
       "sqft_lot15          0.017295  0.070930      0.007918 -0.147210 -0.086409   \n",
       "\n",
       "                   long  sqft_living15  sqft_lot15  \n",
       "price          0.021635       0.585412    0.082451  \n",
       "bedrooms       0.134518       0.403613    0.030564  \n",
       "bathrooms      0.223097       0.568699    0.087188  \n",
       "sqft_living    0.240270       0.756486    0.183298  \n",
       "sqft_lot       0.229511       0.144595    0.718555  \n",
       "floors         0.125440       0.279902   -0.011270  \n",
       "waterfront    -0.041920       0.086459    0.030701  \n",
       "view          -0.078430       0.280425    0.072567  \n",
       "condition     -0.106457      -0.092757   -0.003381  \n",
       "grade          0.198334       0.713193    0.119235  \n",
       "sqft_above     0.343830       0.731909    0.194054  \n",
       "sqft_basement -0.144715       0.200422    0.017295  \n",
       "yr_built       0.409291       0.326165    0.070930  \n",
       "yr_renovated  -0.068186      -0.002501    0.007918  \n",
       "zipcode       -0.564058      -0.279006   -0.147210  \n",
       "lat           -0.135486       0.048900   -0.086409  \n",
       "long           1.000000       0.334554    0.254438  \n",
       "sqft_living15  0.334554       1.000000    0.183175  \n",
       "sqft_lot15     0.254438       0.183175    1.000000  "
      ]
     },
     "execution_count": 19,
     "metadata": {},
     "output_type": "execute_result"
    }
   ],
   "source": [
    "df.corr()"
   ]
  },
  {
   "cell_type": "code",
   "execution_count": 20,
   "metadata": {},
   "outputs": [],
   "source": [
    "import seaborn as sns"
   ]
  },
  {
   "cell_type": "code",
   "execution_count": 21,
   "metadata": {},
   "outputs": [
    {
     "data": {
      "text/plain": [
       "<matplotlib.axes._subplots.AxesSubplot at 0x227a65f95c8>"
      ]
     },
     "execution_count": 21,
     "metadata": {},
     "output_type": "execute_result"
    },
    {
     "data": {
      "image/png": "[encoded data removed]",
      "text/plain": [
       "<Figure size 1440x1440 with 2 Axes>"
      ]
     },
     "metadata": {
      "needs_background": "light"
     },
     "output_type": "display_data"
    }
   ],
   "source": [
    "plt.figure(figsize=(20,20))\n",
    "sns.heatmap(df.corr(), xticklabels=df.columns, yticklabels=df.columns, linewidths=0, annot=df.corr())"
   ]
  },
  {
   "cell_type": "code",
   "execution_count": 22,
   "metadata": {},
   "outputs": [],
   "source": [
    "df1 = df.copy()"
   ]
  },
  {
   "cell_type": "code",
   "execution_count": 23,
   "metadata": {},
   "outputs": [],
   "source": [
    "cols = list(df1.columns)\n",
    "price_col = cols.pop(cols.index('price'))\n",
    "price_col\n",
    "df1 = df1[cols+['price']]"
   ]
  },
  {
   "cell_type": "code",
   "execution_count": 24,
   "metadata": {},
   "outputs": [
    {
     "data": {
      "text/html": [
       "<div>\n",
       "<style scoped>\n",
       "    .dataframe tbody tr th:only-of-type {\n",
       "        vertical-align: middle;\n",
       "    }\n",
       "\n",
       "    .dataframe tbody tr th {\n",
       "        vertical-align: top;\n",
       "    }\n",
       "\n",
       "    .dataframe thead th {\n",
       "        text-align: right;\n",
       "    }\n",
       "</style>\n",
       "<table border=\"1\" class=\"dataframe\">\n",
       "  <thead>\n",
       "    <tr style=\"text-align: right;\">\n",
       "      <th></th>\n",
       "      <th>bedrooms</th>\n",
       "      <th>bathrooms</th>\n",
       "      <th>sqft_living</th>\n",
       "      <th>sqft_lot</th>\n",
       "      <th>floors</th>\n",
       "      <th>waterfront</th>\n",
       "      <th>view</th>\n",
       "      <th>condition</th>\n",
       "      <th>grade</th>\n",
       "      <th>sqft_above</th>\n",
       "      <th>sqft_basement</th>\n",
       "      <th>yr_built</th>\n",
       "      <th>yr_renovated</th>\n",
       "      <th>zipcode</th>\n",
       "      <th>lat</th>\n",
       "      <th>long</th>\n",
       "      <th>sqft_living15</th>\n",
       "      <th>sqft_lot15</th>\n",
       "      <th>price</th>\n",
       "    </tr>\n",
       "  </thead>\n",
       "  <tbody>\n",
       "    <tr>\n",
       "      <td>0</td>\n",
       "      <td>3</td>\n",
       "      <td>1.00</td>\n",
       "      <td>1180</td>\n",
       "      <td>5650</td>\n",
       "      <td>1.0</td>\n",
       "      <td>0</td>\n",
       "      <td>0</td>\n",
       "      <td>3</td>\n",
       "      <td>7</td>\n",
       "      <td>1180</td>\n",
       "      <td>0</td>\n",
       "      <td>1955</td>\n",
       "      <td>0</td>\n",
       "      <td>98178</td>\n",
       "      <td>47.5112</td>\n",
       "      <td>-122.257</td>\n",
       "      <td>1340</td>\n",
       "      <td>5650</td>\n",
       "      <td>221900</td>\n",
       "    </tr>\n",
       "    <tr>\n",
       "      <td>1</td>\n",
       "      <td>3</td>\n",
       "      <td>2.25</td>\n",
       "      <td>2570</td>\n",
       "      <td>7242</td>\n",
       "      <td>2.0</td>\n",
       "      <td>0</td>\n",
       "      <td>0</td>\n",
       "      <td>3</td>\n",
       "      <td>7</td>\n",
       "      <td>2170</td>\n",
       "      <td>400</td>\n",
       "      <td>1951</td>\n",
       "      <td>1991</td>\n",
       "      <td>98125</td>\n",
       "      <td>47.7210</td>\n",
       "      <td>-122.319</td>\n",
       "      <td>1690</td>\n",
       "      <td>7639</td>\n",
       "      <td>538000</td>\n",
       "    </tr>\n",
       "    <tr>\n",
       "      <td>2</td>\n",
       "      <td>2</td>\n",
       "      <td>1.00</td>\n",
       "      <td>770</td>\n",
       "      <td>10000</td>\n",
       "      <td>1.0</td>\n",
       "      <td>0</td>\n",
       "      <td>0</td>\n",
       "      <td>3</td>\n",
       "      <td>6</td>\n",
       "      <td>770</td>\n",
       "      <td>0</td>\n",
       "      <td>1933</td>\n",
       "      <td>0</td>\n",
       "      <td>98028</td>\n",
       "      <td>47.7379</td>\n",
       "      <td>-122.233</td>\n",
       "      <td>2720</td>\n",
       "      <td>8062</td>\n",
       "      <td>180000</td>\n",
       "    </tr>\n",
       "    <tr>\n",
       "      <td>3</td>\n",
       "      <td>4</td>\n",
       "      <td>3.00</td>\n",
       "      <td>1960</td>\n",
       "      <td>5000</td>\n",
       "      <td>1.0</td>\n",
       "      <td>0</td>\n",
       "      <td>0</td>\n",
       "      <td>5</td>\n",
       "      <td>7</td>\n",
       "      <td>1050</td>\n",
       "      <td>910</td>\n",
       "      <td>1965</td>\n",
       "      <td>0</td>\n",
       "      <td>98136</td>\n",
       "      <td>47.5208</td>\n",
       "      <td>-122.393</td>\n",
       "      <td>1360</td>\n",
       "      <td>5000</td>\n",
       "      <td>604000</td>\n",
       "    </tr>\n",
       "    <tr>\n",
       "      <td>4</td>\n",
       "      <td>3</td>\n",
       "      <td>2.00</td>\n",
       "      <td>1680</td>\n",
       "      <td>8080</td>\n",
       "      <td>1.0</td>\n",
       "      <td>0</td>\n",
       "      <td>0</td>\n",
       "      <td>3</td>\n",
       "      <td>8</td>\n",
       "      <td>1680</td>\n",
       "      <td>0</td>\n",
       "      <td>1987</td>\n",
       "      <td>0</td>\n",
       "      <td>98074</td>\n",
       "      <td>47.6168</td>\n",
       "      <td>-122.045</td>\n",
       "      <td>1800</td>\n",
       "      <td>7503</td>\n",
       "      <td>510000</td>\n",
       "    </tr>\n",
       "  </tbody>\n",
       "</table>\n",
       "</div>"
      ],
      "text/plain": [
       "   bedrooms  bathrooms  sqft_living  sqft_lot  floors  waterfront  view  \\\n",
       "0         3       1.00         1180      5650     1.0           0     0   \n",
       "1         3       2.25         2570      7242     2.0           0     0   \n",
       "2         2       1.00          770     10000     1.0           0     0   \n",
       "3         4       3.00         1960      5000     1.0           0     0   \n",
       "4         3       2.00         1680      8080     1.0           0     0   \n",
       "\n",
       "   condition  grade  sqft_above  sqft_basement  yr_built  yr_renovated  \\\n",
       "0          3      7        1180              0      1955             0   \n",
       "1          3      7        2170            400      1951          1991   \n",
       "2          3      6         770              0      1933             0   \n",
       "3          5      7        1050            910      1965             0   \n",
       "4          3      8        1680              0      1987             0   \n",
       "\n",
       "   zipcode      lat     long  sqft_living15  sqft_lot15   price  \n",
       "0    98178  47.5112 -122.257           1340        5650  221900  \n",
       "1    98125  47.7210 -122.319           1690        7639  538000  \n",
       "2    98028  47.7379 -122.233           2720        8062  180000  \n",
       "3    98136  47.5208 -122.393           1360        5000  604000  \n",
       "4    98074  47.6168 -122.045           1800        7503  510000  "
      ]
     },
     "execution_count": 24,
     "metadata": {},
     "output_type": "execute_result"
    }
   ],
   "source": [
    "df1.head()"
   ]
  },
  {
   "cell_type": "code",
   "execution_count": 25,
   "metadata": {},
   "outputs": [],
   "source": [
    "corr_matrix = df1.corr()\n",
    "type(corr_matrix)\n",
    "sort = corr_matrix.sort_values('price',ascending=False)"
   ]
  },
  {
   "cell_type": "code",
   "execution_count": 26,
   "metadata": {},
   "outputs": [
    {
     "data": {
      "text/html": [
       "<div>\n",
       "<style scoped>\n",
       "    .dataframe tbody tr th:only-of-type {\n",
       "        vertical-align: middle;\n",
       "    }\n",
       "\n",
       "    .dataframe tbody tr th {\n",
       "        vertical-align: top;\n",
       "    }\n",
       "\n",
       "    .dataframe thead th {\n",
       "        text-align: right;\n",
       "    }\n",
       "</style>\n",
       "<table border=\"1\" class=\"dataframe\">\n",
       "  <thead>\n",
       "    <tr style=\"text-align: right;\">\n",
       "      <th></th>\n",
       "      <th>price</th>\n",
       "    </tr>\n",
       "  </thead>\n",
       "  <tbody>\n",
       "    <tr>\n",
       "      <td>price</td>\n",
       "      <td>1.000000</td>\n",
       "    </tr>\n",
       "    <tr>\n",
       "      <td>sqft_living</td>\n",
       "      <td>0.702066</td>\n",
       "    </tr>\n",
       "    <tr>\n",
       "      <td>grade</td>\n",
       "      <td>0.667451</td>\n",
       "    </tr>\n",
       "    <tr>\n",
       "      <td>sqft_above</td>\n",
       "      <td>0.605601</td>\n",
       "    </tr>\n",
       "    <tr>\n",
       "      <td>sqft_living15</td>\n",
       "      <td>0.585412</td>\n",
       "    </tr>\n",
       "    <tr>\n",
       "      <td>bathrooms</td>\n",
       "      <td>0.525166</td>\n",
       "    </tr>\n",
       "    <tr>\n",
       "      <td>view</td>\n",
       "      <td>0.397299</td>\n",
       "    </tr>\n",
       "    <tr>\n",
       "      <td>sqft_basement</td>\n",
       "      <td>0.323817</td>\n",
       "    </tr>\n",
       "    <tr>\n",
       "      <td>bedrooms</td>\n",
       "      <td>0.315983</td>\n",
       "    </tr>\n",
       "    <tr>\n",
       "      <td>lat</td>\n",
       "      <td>0.306998</td>\n",
       "    </tr>\n",
       "    <tr>\n",
       "      <td>waterfront</td>\n",
       "      <td>0.266371</td>\n",
       "    </tr>\n",
       "    <tr>\n",
       "      <td>floors</td>\n",
       "      <td>0.256818</td>\n",
       "    </tr>\n",
       "    <tr>\n",
       "      <td>yr_renovated</td>\n",
       "      <td>0.126515</td>\n",
       "    </tr>\n",
       "    <tr>\n",
       "      <td>sqft_lot</td>\n",
       "      <td>0.089663</td>\n",
       "    </tr>\n",
       "    <tr>\n",
       "      <td>sqft_lot15</td>\n",
       "      <td>0.082451</td>\n",
       "    </tr>\n",
       "    <tr>\n",
       "      <td>yr_built</td>\n",
       "      <td>0.054022</td>\n",
       "    </tr>\n",
       "    <tr>\n",
       "      <td>condition</td>\n",
       "      <td>0.036335</td>\n",
       "    </tr>\n",
       "    <tr>\n",
       "      <td>long</td>\n",
       "      <td>0.021635</td>\n",
       "    </tr>\n",
       "    <tr>\n",
       "      <td>zipcode</td>\n",
       "      <td>-0.053208</td>\n",
       "    </tr>\n",
       "  </tbody>\n",
       "</table>\n",
       "</div>"
      ],
      "text/plain": [
       "                  price\n",
       "price          1.000000\n",
       "sqft_living    0.702066\n",
       "grade          0.667451\n",
       "sqft_above     0.605601\n",
       "sqft_living15  0.585412\n",
       "bathrooms      0.525166\n",
       "view           0.397299\n",
       "sqft_basement  0.323817\n",
       "bedrooms       0.315983\n",
       "lat            0.306998\n",
       "waterfront     0.266371\n",
       "floors         0.256818\n",
       "yr_renovated   0.126515\n",
       "sqft_lot       0.089663\n",
       "sqft_lot15     0.082451\n",
       "yr_built       0.054022\n",
       "condition      0.036335\n",
       "long           0.021635\n",
       "zipcode       -0.053208"
      ]
     },
     "execution_count": 26,
     "metadata": {},
     "output_type": "execute_result"
    }
   ],
   "source": [
    "sort[['price']]"
   ]
  },
  {
   "cell_type": "code",
   "execution_count": 27,
   "metadata": {},
   "outputs": [
    {
     "data": {
      "text/plain": [
       "<matplotlib.collections.PathCollection at 0x227a728e748>"
      ]
     },
     "execution_count": 27,
     "metadata": {},
     "output_type": "execute_result"
    },
    {
     "data": {
      "image/png": "[encoded data removed]",
      "text/plain": [
       "<Figure size 432x288 with 1 Axes>"
      ]
     },
     "metadata": {
      "needs_background": "light"
     },
     "output_type": "display_data"
    }
   ],
   "source": [
    "plt.scatter(df1['sqft_living'], df1['price'])"
   ]
  },
  {
   "cell_type": "code",
   "execution_count": 28,
   "metadata": {},
   "outputs": [
    {
     "data": {
      "text/plain": [
       "<matplotlib.collections.PathCollection at 0x227a674e588>"
      ]
     },
     "execution_count": 28,
     "metadata": {},
     "output_type": "execute_result"
    },
    {
     "data": {
      "image/png": "[encoded data removed]",
      "text/plain": [
       "<Figure size 432x288 with 1 Axes>"
      ]
     },
     "metadata": {
      "needs_background": "light"
     },
     "output_type": "display_data"
    }
   ],
   "source": [
    "plt.scatter(df1['long'], df1['price'])"
   ]
  },
  {
   "cell_type": "code",
   "execution_count": 29,
   "metadata": {},
   "outputs": [
    {
     "data": {
      "text/plain": [
       "<matplotlib.axes._subplots.AxesSubplot at 0x227a71d1888>"
      ]
     },
     "execution_count": 29,
     "metadata": {},
     "output_type": "execute_result"
    },
    {
     "data": {
      "image/png": "[encoded data removed]",
      "text/plain": [
       "<Figure size 432x288 with 1 Axes>"
      ]
     },
     "metadata": {
      "needs_background": "light"
     },
     "output_type": "display_data"
    }
   ],
   "source": [
    "sns.regplot(df1['long'], df1['price'])"
   ]
  },
  {
   "cell_type": "code",
   "execution_count": 30,
   "metadata": {},
   "outputs": [
    {
     "data": {
      "text/plain": [
       "<matplotlib.axes._subplots.AxesSubplot at 0x227a6810948>"
      ]
     },
     "execution_count": 30,
     "metadata": {},
     "output_type": "execute_result"
    },
    {
     "data": {
      "image/png": "[encoded data removed]",
      "text/plain": [
       "<Figure size 432x288 with 1 Axes>"
      ]
     },
     "metadata": {
      "needs_background": "light"
     },
     "output_type": "display_data"
    }
   ],
   "source": [
    "sns.regplot(df1['sqft_living'], df1['price'])"
   ]
  },
  {
   "cell_type": "code",
   "execution_count": 98,
   "metadata": {},
   "outputs": [
    {
     "data": {
      "text/plain": [
       "(array([6.300e+01, 5.330e+02, 3.977e+03, 7.183e+03, 6.343e+03, 2.541e+03,\n",
       "        7.330e+02, 1.930e+02, 3.800e+01, 7.000e+00]),\n",
       " array([11.22524339, 11.68839214, 12.15154089, 12.61468964, 13.07783839,\n",
       "        13.54098714, 14.00413589, 14.46728464, 14.93043339, 15.39358214,\n",
       "        15.85673089]),\n",
       " <a list of 10 Patch objects>)"
      ]
     },
     "execution_count": 98,
     "metadata": {},
     "output_type": "execute_result"
    },
    {
     "data": {
      "image/png": "[encoded data removed]",
      "text/plain": [
       "<Figure size 432x288 with 1 Axes>"
      ]
     },
     "metadata": {
      "needs_background": "light"
     },
     "output_type": "display_data"
    }
   ],
   "source": [
    "plt.hist(np.log(label))"
   ]
  },
  {
   "cell_type": "code",
   "execution_count": 100,
   "metadata": {},
   "outputs": [
    {
     "data": {
      "text/plain": [
       "0.4281688439755591"
      ]
     },
     "execution_count": 100,
     "metadata": {},
     "output_type": "execute_result"
    }
   ],
   "source": [
    "np.log(label).skew()"
   ]
  },
  {
   "cell_type": "code",
   "execution_count": 101,
   "metadata": {},
   "outputs": [],
   "source": [
    "from scipy import stats"
   ]
  },
  {
   "cell_type": "code",
   "execution_count": 106,
   "metadata": {},
   "outputs": [
    {
     "data": {
      "image/png": "[encoded data removed]",
      "text/plain": [
       "<Figure size 432x288 with 1 Axes>"
      ]
     },
     "metadata": {
      "needs_background": "light"
     },
     "output_type": "display_data"
    }
   ],
   "source": [
    "fig = plt.figure()\n",
    "ax = fig.add_subplot(111)\n",
    "stats.probplot(np.log(label), plot=ax)\n",
    "plt.show()"
   ]
  },
  {
   "cell_type": "code",
   "execution_count": 31,
   "metadata": {},
   "outputs": [
    {
     "data": {
      "text/plain": [
       "array([[1.98327940e-02, 1.11862428e+03],\n",
       "       [1.11862428e+03, 1.34794371e+11]])"
      ]
     },
     "execution_count": 31,
     "metadata": {},
     "output_type": "execute_result"
    }
   ],
   "source": [
    "from numpy import cov\n",
    "covariance = cov(df1['long'],df1['price'])\n",
    "covariance"
   ]
  },
  {
   "cell_type": "code",
   "execution_count": 32,
   "metadata": {},
   "outputs": [
    {
     "data": {
      "text/plain": [
       "0    21448\n",
       "1      163\n",
       "Name: waterfront, dtype: int64"
      ]
     },
     "execution_count": 32,
     "metadata": {},
     "output_type": "execute_result"
    }
   ],
   "source": [
    "df['waterfront'].value_counts()"
   ]
  },
  {
   "cell_type": "code",
   "execution_count": 33,
   "metadata": {},
   "outputs": [
    {
     "data": {
      "text/plain": [
       "0    19487\n",
       "2      963\n",
       "3      510\n",
       "1      332\n",
       "4      319\n",
       "Name: view, dtype: int64"
      ]
     },
     "execution_count": 33,
     "metadata": {},
     "output_type": "execute_result"
    }
   ],
   "source": [
    "df['view'].value_counts()"
   ]
  },
  {
   "cell_type": "code",
   "execution_count": 34,
   "metadata": {},
   "outputs": [
    {
     "data": {
      "text/plain": [
       "3    14030\n",
       "4     5679\n",
       "5     1700\n",
       "2      172\n",
       "1       30\n",
       "Name: condition, dtype: int64"
      ]
     },
     "execution_count": 34,
     "metadata": {},
     "output_type": "execute_result"
    }
   ],
   "source": [
    "df['condition'].value_counts()"
   ]
  },
  {
   "cell_type": "code",
   "execution_count": 35,
   "metadata": {},
   "outputs": [
    {
     "data": {
      "text/html": [
       "<div>\n",
       "<style scoped>\n",
       "    .dataframe tbody tr th:only-of-type {\n",
       "        vertical-align: middle;\n",
       "    }\n",
       "\n",
       "    .dataframe tbody tr th {\n",
       "        vertical-align: top;\n",
       "    }\n",
       "\n",
       "    .dataframe thead th {\n",
       "        text-align: right;\n",
       "    }\n",
       "</style>\n",
       "<table border=\"1\" class=\"dataframe\">\n",
       "  <thead>\n",
       "    <tr style=\"text-align: right;\">\n",
       "      <th></th>\n",
       "      <th>waterfront</th>\n",
       "      <th>price</th>\n",
       "    </tr>\n",
       "  </thead>\n",
       "  <tbody>\n",
       "    <tr>\n",
       "      <td>0</td>\n",
       "      <td>0</td>\n",
       "      <td>221900</td>\n",
       "    </tr>\n",
       "    <tr>\n",
       "      <td>1</td>\n",
       "      <td>0</td>\n",
       "      <td>538000</td>\n",
       "    </tr>\n",
       "    <tr>\n",
       "      <td>2</td>\n",
       "      <td>0</td>\n",
       "      <td>180000</td>\n",
       "    </tr>\n",
       "    <tr>\n",
       "      <td>3</td>\n",
       "      <td>0</td>\n",
       "      <td>604000</td>\n",
       "    </tr>\n",
       "    <tr>\n",
       "      <td>4</td>\n",
       "      <td>0</td>\n",
       "      <td>510000</td>\n",
       "    </tr>\n",
       "    <tr>\n",
       "      <td>49</td>\n",
       "      <td>1</td>\n",
       "      <td>1350000</td>\n",
       "    </tr>\n",
       "    <tr>\n",
       "      <td>230</td>\n",
       "      <td>1</td>\n",
       "      <td>655000</td>\n",
       "    </tr>\n",
       "    <tr>\n",
       "      <td>246</td>\n",
       "      <td>1</td>\n",
       "      <td>2400000</td>\n",
       "    </tr>\n",
       "    <tr>\n",
       "      <td>264</td>\n",
       "      <td>1</td>\n",
       "      <td>369900</td>\n",
       "    </tr>\n",
       "    <tr>\n",
       "      <td>300</td>\n",
       "      <td>1</td>\n",
       "      <td>3075000</td>\n",
       "    </tr>\n",
       "  </tbody>\n",
       "</table>\n",
       "</div>"
      ],
      "text/plain": [
       "     waterfront    price\n",
       "0             0   221900\n",
       "1             0   538000\n",
       "2             0   180000\n",
       "3             0   604000\n",
       "4             0   510000\n",
       "49            1  1350000\n",
       "230           1   655000\n",
       "246           1  2400000\n",
       "264           1   369900\n",
       "300           1  3075000"
      ]
     },
     "execution_count": 35,
     "metadata": {},
     "output_type": "execute_result"
    }
   ],
   "source": [
    "#ANOVA\n",
    "grouped_test2=df1[['waterfront', 'price']].groupby(['waterfront'])\n",
    "grouped_test2.head()"
   ]
  },
  {
   "cell_type": "code",
   "execution_count": 36,
   "metadata": {},
   "outputs": [
    {
     "name": "stdout",
     "output_type": "stream",
     "text": [
      "ANOVA results: F= 1650.329578279241 , P = 0.0\n"
     ]
    }
   ],
   "source": [
    "from scipy.stats import f_oneway\n",
    "f_val, p_val = f_oneway(grouped_test2.get_group(0)['price'], grouped_test2.get_group(1)['price'])  \n",
    " \n",
    "print( \"ANOVA results: F=\", f_val, \", P =\", p_val)  "
   ]
  },
  {
   "cell_type": "code",
   "execution_count": 37,
   "metadata": {
    "scrolled": true
   },
   "outputs": [
    {
     "name": "stdout",
     "output_type": "stream",
     "text": [
      "correlation:  0.021634975730727674\n",
      "p-value:  0.0014693140788605403\n"
     ]
    }
   ],
   "source": [
    "from scipy.stats import pearsonr\n",
    "corr, p = pearsonr(df1['long'], df1['price'])\n",
    "print(\"correlation: \", corr)\n",
    "print(\"p-value: \", p)"
   ]
  },
  {
   "cell_type": "code",
   "execution_count": 38,
   "metadata": {},
   "outputs": [
    {
     "name": "stdout",
     "output_type": "stream",
     "text": [
      "The Pearson Correlation Coefficient:  0.126515379732808 \n",
      "P-value of P:  8.269950001778953e-78\n"
     ]
    }
   ],
   "source": [
    "pearson_coef, p_value = pearsonr(df1['yr_renovated'], df1['price'])\n",
    "print(\"The Pearson Correlation Coefficient: \", pearson_coef, \"\\nP-value of P: \", p_value)"
   ]
  },
  {
   "cell_type": "code",
   "execution_count": 39,
   "metadata": {},
   "outputs": [
    {
     "name": "stdout",
     "output_type": "stream",
     "text": [
      "The Pearson Correlation Coefficient:  0.021634975730727674 \n",
      "P-value of P:  0.0014693140788605403\n"
     ]
    }
   ],
   "source": [
    "pearson_coef, p_value = pearsonr(df1['long'], df1['price'])\n",
    "print(\"The Pearson Correlation Coefficient: \", pearson_coef, \"\\nP-value of P: \", p_value)"
   ]
  },
  {
   "cell_type": "code",
   "execution_count": 40,
   "metadata": {},
   "outputs": [
    {
     "data": {
      "text/plain": [
       "['bedrooms',\n",
       " 'bathrooms',\n",
       " 'sqft_living',\n",
       " 'sqft_lot',\n",
       " 'floors',\n",
       " 'waterfront',\n",
       " 'view',\n",
       " 'condition',\n",
       " 'grade',\n",
       " 'sqft_above',\n",
       " 'sqft_basement',\n",
       " 'yr_built',\n",
       " 'yr_renovated',\n",
       " 'zipcode',\n",
       " 'lat',\n",
       " 'long',\n",
       " 'sqft_living15',\n",
       " 'sqft_lot15']"
      ]
     },
     "execution_count": 40,
     "metadata": {},
     "output_type": "execute_result"
    }
   ],
   "source": [
    "features1 = df1.columns.to_list()[:-1]\n",
    "features1"
   ]
  },
  {
   "cell_type": "code",
   "execution_count": 41,
   "metadata": {},
   "outputs": [],
   "source": [
    "pearson_coef = []\n",
    "p_values = []\n",
    "for column in features1:\n",
    "    coef, p_val = pearsonr(df1[column], df1['price'])\n",
    "    pearson_coef.append(coef)\n",
    "    p_values.append(p_val)"
   ]
  },
  {
   "cell_type": "code",
   "execution_count": 42,
   "metadata": {},
   "outputs": [],
   "source": [
    "dict1 = {\"Features\" : features1, \"Pearson Coeffs\" : pearson_coef, \"P-values\" : p_values }"
   ]
  },
  {
   "cell_type": "code",
   "execution_count": 43,
   "metadata": {
    "scrolled": true
   },
   "outputs": [
    {
     "data": {
      "text/html": [
       "<div>\n",
       "<style scoped>\n",
       "    .dataframe tbody tr th:only-of-type {\n",
       "        vertical-align: middle;\n",
       "    }\n",
       "\n",
       "    .dataframe tbody tr th {\n",
       "        vertical-align: top;\n",
       "    }\n",
       "\n",
       "    .dataframe thead th {\n",
       "        text-align: right;\n",
       "    }\n",
       "</style>\n",
       "<table border=\"1\" class=\"dataframe\">\n",
       "  <thead>\n",
       "    <tr style=\"text-align: right;\">\n",
       "      <th></th>\n",
       "      <th>Features</th>\n",
       "      <th>Pearson Coeffs</th>\n",
       "      <th>P-values</th>\n",
       "    </tr>\n",
       "  </thead>\n",
       "  <tbody>\n",
       "    <tr>\n",
       "      <td>2</td>\n",
       "      <td>sqft_living</td>\n",
       "      <td>0.702066</td>\n",
       "      <td>0.000000e+00</td>\n",
       "    </tr>\n",
       "    <tr>\n",
       "      <td>8</td>\n",
       "      <td>grade</td>\n",
       "      <td>0.667451</td>\n",
       "      <td>0.000000e+00</td>\n",
       "    </tr>\n",
       "    <tr>\n",
       "      <td>9</td>\n",
       "      <td>sqft_above</td>\n",
       "      <td>0.605601</td>\n",
       "      <td>0.000000e+00</td>\n",
       "    </tr>\n",
       "    <tr>\n",
       "      <td>16</td>\n",
       "      <td>sqft_living15</td>\n",
       "      <td>0.585412</td>\n",
       "      <td>0.000000e+00</td>\n",
       "    </tr>\n",
       "    <tr>\n",
       "      <td>1</td>\n",
       "      <td>bathrooms</td>\n",
       "      <td>0.525166</td>\n",
       "      <td>0.000000e+00</td>\n",
       "    </tr>\n",
       "    <tr>\n",
       "      <td>6</td>\n",
       "      <td>view</td>\n",
       "      <td>0.397299</td>\n",
       "      <td>0.000000e+00</td>\n",
       "    </tr>\n",
       "    <tr>\n",
       "      <td>10</td>\n",
       "      <td>sqft_basement</td>\n",
       "      <td>0.323817</td>\n",
       "      <td>0.000000e+00</td>\n",
       "    </tr>\n",
       "    <tr>\n",
       "      <td>0</td>\n",
       "      <td>bedrooms</td>\n",
       "      <td>0.315983</td>\n",
       "      <td>0.000000e+00</td>\n",
       "    </tr>\n",
       "    <tr>\n",
       "      <td>14</td>\n",
       "      <td>lat</td>\n",
       "      <td>0.306998</td>\n",
       "      <td>0.000000e+00</td>\n",
       "    </tr>\n",
       "    <tr>\n",
       "      <td>5</td>\n",
       "      <td>waterfront</td>\n",
       "      <td>0.266371</td>\n",
       "      <td>0.000000e+00</td>\n",
       "    </tr>\n",
       "    <tr>\n",
       "      <td>4</td>\n",
       "      <td>floors</td>\n",
       "      <td>0.256818</td>\n",
       "      <td>1.482197e-322</td>\n",
       "    </tr>\n",
       "    <tr>\n",
       "      <td>12</td>\n",
       "      <td>yr_renovated</td>\n",
       "      <td>0.126515</td>\n",
       "      <td>8.269950e-78</td>\n",
       "    </tr>\n",
       "    <tr>\n",
       "      <td>3</td>\n",
       "      <td>sqft_lot</td>\n",
       "      <td>0.089663</td>\n",
       "      <td>7.997605e-40</td>\n",
       "    </tr>\n",
       "    <tr>\n",
       "      <td>17</td>\n",
       "      <td>sqft_lot15</td>\n",
       "      <td>0.082451</td>\n",
       "      <td>6.421458e-34</td>\n",
       "    </tr>\n",
       "    <tr>\n",
       "      <td>11</td>\n",
       "      <td>yr_built</td>\n",
       "      <td>0.054022</td>\n",
       "      <td>1.911098e-15</td>\n",
       "    </tr>\n",
       "    <tr>\n",
       "      <td>7</td>\n",
       "      <td>condition</td>\n",
       "      <td>0.036335</td>\n",
       "      <td>9.145927e-08</td>\n",
       "    </tr>\n",
       "    <tr>\n",
       "      <td>15</td>\n",
       "      <td>long</td>\n",
       "      <td>0.021635</td>\n",
       "      <td>1.469314e-03</td>\n",
       "    </tr>\n",
       "    <tr>\n",
       "      <td>13</td>\n",
       "      <td>zipcode</td>\n",
       "      <td>-0.053208</td>\n",
       "      <td>4.994572e-15</td>\n",
       "    </tr>\n",
       "  </tbody>\n",
       "</table>\n",
       "</div>"
      ],
      "text/plain": [
       "         Features  Pearson Coeffs       P-values\n",
       "2     sqft_living        0.702066   0.000000e+00\n",
       "8           grade        0.667451   0.000000e+00\n",
       "9      sqft_above        0.605601   0.000000e+00\n",
       "16  sqft_living15        0.585412   0.000000e+00\n",
       "1       bathrooms        0.525166   0.000000e+00\n",
       "6            view        0.397299   0.000000e+00\n",
       "10  sqft_basement        0.323817   0.000000e+00\n",
       "0        bedrooms        0.315983   0.000000e+00\n",
       "14            lat        0.306998   0.000000e+00\n",
       "5      waterfront        0.266371   0.000000e+00\n",
       "4          floors        0.256818  1.482197e-322\n",
       "12   yr_renovated        0.126515   8.269950e-78\n",
       "3        sqft_lot        0.089663   7.997605e-40\n",
       "17     sqft_lot15        0.082451   6.421458e-34\n",
       "11       yr_built        0.054022   1.911098e-15\n",
       "7       condition        0.036335   9.145927e-08\n",
       "15           long        0.021635   1.469314e-03\n",
       "13        zipcode       -0.053208   4.994572e-15"
      ]
     },
     "execution_count": 43,
     "metadata": {},
     "output_type": "execute_result"
    }
   ],
   "source": [
    "pd.DataFrame(dict1).sort_values(by=\"Pearson Coeffs\", ascending=False,)"
   ]
  },
  {
   "cell_type": "code",
   "execution_count": 44,
   "metadata": {},
   "outputs": [],
   "source": [
    "#taking part of columns and validating the accuracy\n",
    "features_1 = df1[['sqft_living','grade','sqft_above','sqft_living15','bathrooms','view','sqft_basement','bedrooms','lat','waterfront']]"
   ]
  },
  {
   "cell_type": "code",
   "execution_count": 45,
   "metadata": {},
   "outputs": [
    {
     "data": {
      "text/plain": [
       "(21611, 10)"
      ]
     },
     "execution_count": 45,
     "metadata": {},
     "output_type": "execute_result"
    }
   ],
   "source": [
    "features_1.shape"
   ]
  },
  {
   "cell_type": "code",
   "execution_count": 46,
   "metadata": {},
   "outputs": [
    {
     "data": {
      "text/plain": [
       "(21611,)"
      ]
     },
     "execution_count": 46,
     "metadata": {},
     "output_type": "execute_result"
    }
   ],
   "source": [
    "label = df['price']\n",
    "label.shape"
   ]
  },
  {
   "cell_type": "code",
   "execution_count": 47,
   "metadata": {},
   "outputs": [
    {
     "data": {
      "text/html": [
       "<div>\n",
       "<style scoped>\n",
       "    .dataframe tbody tr th:only-of-type {\n",
       "        vertical-align: middle;\n",
       "    }\n",
       "\n",
       "    .dataframe tbody tr th {\n",
       "        vertical-align: top;\n",
       "    }\n",
       "\n",
       "    .dataframe thead th {\n",
       "        text-align: right;\n",
       "    }\n",
       "</style>\n",
       "<table border=\"1\" class=\"dataframe\">\n",
       "  <thead>\n",
       "    <tr style=\"text-align: right;\">\n",
       "      <th></th>\n",
       "      <th>bedrooms</th>\n",
       "      <th>bathrooms</th>\n",
       "      <th>sqft_living</th>\n",
       "      <th>sqft_lot</th>\n",
       "      <th>floors</th>\n",
       "      <th>waterfront</th>\n",
       "      <th>view</th>\n",
       "      <th>condition</th>\n",
       "      <th>grade</th>\n",
       "      <th>sqft_above</th>\n",
       "      <th>sqft_basement</th>\n",
       "      <th>yr_built</th>\n",
       "      <th>yr_renovated</th>\n",
       "      <th>zipcode</th>\n",
       "      <th>lat</th>\n",
       "      <th>long</th>\n",
       "      <th>sqft_living15</th>\n",
       "    </tr>\n",
       "  </thead>\n",
       "  <tbody>\n",
       "    <tr>\n",
       "      <td>0</td>\n",
       "      <td>3</td>\n",
       "      <td>1.00</td>\n",
       "      <td>1180</td>\n",
       "      <td>5650</td>\n",
       "      <td>1.0</td>\n",
       "      <td>0</td>\n",
       "      <td>0</td>\n",
       "      <td>3</td>\n",
       "      <td>7</td>\n",
       "      <td>1180</td>\n",
       "      <td>0</td>\n",
       "      <td>1955</td>\n",
       "      <td>0</td>\n",
       "      <td>98178</td>\n",
       "      <td>47.5112</td>\n",
       "      <td>-122.257</td>\n",
       "      <td>1340</td>\n",
       "    </tr>\n",
       "    <tr>\n",
       "      <td>1</td>\n",
       "      <td>3</td>\n",
       "      <td>2.25</td>\n",
       "      <td>2570</td>\n",
       "      <td>7242</td>\n",
       "      <td>2.0</td>\n",
       "      <td>0</td>\n",
       "      <td>0</td>\n",
       "      <td>3</td>\n",
       "      <td>7</td>\n",
       "      <td>2170</td>\n",
       "      <td>400</td>\n",
       "      <td>1951</td>\n",
       "      <td>1991</td>\n",
       "      <td>98125</td>\n",
       "      <td>47.7210</td>\n",
       "      <td>-122.319</td>\n",
       "      <td>1690</td>\n",
       "    </tr>\n",
       "    <tr>\n",
       "      <td>2</td>\n",
       "      <td>2</td>\n",
       "      <td>1.00</td>\n",
       "      <td>770</td>\n",
       "      <td>10000</td>\n",
       "      <td>1.0</td>\n",
       "      <td>0</td>\n",
       "      <td>0</td>\n",
       "      <td>3</td>\n",
       "      <td>6</td>\n",
       "      <td>770</td>\n",
       "      <td>0</td>\n",
       "      <td>1933</td>\n",
       "      <td>0</td>\n",
       "      <td>98028</td>\n",
       "      <td>47.7379</td>\n",
       "      <td>-122.233</td>\n",
       "      <td>2720</td>\n",
       "    </tr>\n",
       "    <tr>\n",
       "      <td>3</td>\n",
       "      <td>4</td>\n",
       "      <td>3.00</td>\n",
       "      <td>1960</td>\n",
       "      <td>5000</td>\n",
       "      <td>1.0</td>\n",
       "      <td>0</td>\n",
       "      <td>0</td>\n",
       "      <td>5</td>\n",
       "      <td>7</td>\n",
       "      <td>1050</td>\n",
       "      <td>910</td>\n",
       "      <td>1965</td>\n",
       "      <td>0</td>\n",
       "      <td>98136</td>\n",
       "      <td>47.5208</td>\n",
       "      <td>-122.393</td>\n",
       "      <td>1360</td>\n",
       "    </tr>\n",
       "    <tr>\n",
       "      <td>4</td>\n",
       "      <td>3</td>\n",
       "      <td>2.00</td>\n",
       "      <td>1680</td>\n",
       "      <td>8080</td>\n",
       "      <td>1.0</td>\n",
       "      <td>0</td>\n",
       "      <td>0</td>\n",
       "      <td>3</td>\n",
       "      <td>8</td>\n",
       "      <td>1680</td>\n",
       "      <td>0</td>\n",
       "      <td>1987</td>\n",
       "      <td>0</td>\n",
       "      <td>98074</td>\n",
       "      <td>47.6168</td>\n",
       "      <td>-122.045</td>\n",
       "      <td>1800</td>\n",
       "    </tr>\n",
       "  </tbody>\n",
       "</table>\n",
       "</div>"
      ],
      "text/plain": [
       "   bedrooms  bathrooms  sqft_living  sqft_lot  floors  waterfront  view  \\\n",
       "0         3       1.00         1180      5650     1.0           0     0   \n",
       "1         3       2.25         2570      7242     2.0           0     0   \n",
       "2         2       1.00          770     10000     1.0           0     0   \n",
       "3         4       3.00         1960      5000     1.0           0     0   \n",
       "4         3       2.00         1680      8080     1.0           0     0   \n",
       "\n",
       "   condition  grade  sqft_above  sqft_basement  yr_built  yr_renovated  \\\n",
       "0          3      7        1180              0      1955             0   \n",
       "1          3      7        2170            400      1951          1991   \n",
       "2          3      6         770              0      1933             0   \n",
       "3          5      7        1050            910      1965             0   \n",
       "4          3      8        1680              0      1987             0   \n",
       "\n",
       "   zipcode      lat     long  sqft_living15  \n",
       "0    98178  47.5112 -122.257           1340  \n",
       "1    98125  47.7210 -122.319           1690  \n",
       "2    98028  47.7379 -122.233           2720  \n",
       "3    98136  47.5208 -122.393           1360  \n",
       "4    98074  47.6168 -122.045           1800  "
      ]
     },
     "execution_count": 47,
     "metadata": {},
     "output_type": "execute_result"
    }
   ],
   "source": [
    "featuresall = df1.iloc[:,:-2]\n",
    "featuresall.head()"
   ]
  },
  {
   "cell_type": "code",
   "execution_count": 48,
   "metadata": {},
   "outputs": [
    {
     "data": {
      "text/plain": [
       "count    21611.000000\n",
       "mean         3.369118\n",
       "std          0.906518\n",
       "min          0.000000\n",
       "25%          3.000000\n",
       "50%          3.000000\n",
       "75%          4.000000\n",
       "max         10.000000\n",
       "Name: bedrooms, dtype: float64"
      ]
     },
     "execution_count": 48,
     "metadata": {},
     "output_type": "execute_result"
    }
   ],
   "source": [
    "df[featuresall.columns.to_list()[0]].describe()"
   ]
  },
  {
   "cell_type": "code",
   "execution_count": 49,
   "metadata": {},
   "outputs": [
    {
     "name": "stdout",
     "output_type": "stream",
     "text": [
      "    train score  test score  random state\n",
      "0      0.699241    0.700850             2\n",
      "1      0.698358    0.702998             3\n",
      "2      0.691951    0.716614             5\n",
      "3      0.697673    0.704139             9\n",
      "4      0.696687    0.707181            11\n",
      "5      0.698771    0.701058            13\n",
      "6      0.696401    0.706963            14\n",
      "7      0.698508    0.700331            15\n",
      "8      0.696411    0.707148            16\n",
      "9      0.698744    0.701313            17\n",
      "10     0.698474    0.702907            18\n",
      "11     0.698219    0.701555            19\n",
      "12     0.698793    0.701422            20\n",
      "13     0.699587    0.700008            21\n",
      "14     0.695849    0.708424            26\n",
      "15     0.698558    0.702436            29\n"
     ]
    }
   ],
   "source": [
    "from sklearn.linear_model import LinearRegression\n",
    "from sklearn.model_selection import train_test_split\n",
    "bruteScores = []\n",
    "for i in range(1,30):\n",
    "    x_train,  x_test, y_train, y_test = train_test_split(featuresall, label, test_size = 0.3, random_state=i)\n",
    "    \n",
    "    LinReg_model = LinearRegression().fit(x_train, y_train)\n",
    "    \n",
    "    test_score = LinReg_model.score(x_test,y_test)\n",
    "    train_score = LinReg_model.score(x_train,y_train)\n",
    "    \n",
    "    if test_score > train_score:\n",
    "         bruteScores.append((train_score, test_score, i))\n",
    "             \n",
    "print(pd.DataFrame(bruteScores, columns=[\"train score\", 'test score', 'random state']))"
   ]
  },
  {
   "cell_type": "code",
   "execution_count": 50,
   "metadata": {},
   "outputs": [
    {
     "name": "stdout",
     "output_type": "stream",
     "text": [
      "Corelated columns: floors floors\n",
      "Corelated columns: condition condition\n"
     ]
    }
   ],
   "source": [
    "#correlation b/w features\n",
    "for i in featuresall.columns.to_list():\n",
    "    for j in featuresall.columns.to_list():\n",
    "        correlation = df[i].corr(df[j])\n",
    "        if correlation > 0.95 and correlation != 1:\n",
    "            print (\"Corelated columns: {} {}\".format(i,j))"
   ]
  },
  {
   "cell_type": "code",
   "execution_count": 51,
   "metadata": {},
   "outputs": [],
   "source": [
    "from sklearn.preprocessing import PolynomialFeatures\n",
    "from sklearn.pipeline import Pipeline"
   ]
  },
  {
   "cell_type": "code",
   "execution_count": 52,
   "metadata": {},
   "outputs": [],
   "source": [
    "poly = PolynomialFeatures(degree=2)\n",
    "poly_features = poly.fit_transform(featuresall)"
   ]
  },
  {
   "cell_type": "code",
   "execution_count": 53,
   "metadata": {},
   "outputs": [
    {
     "data": {
      "text/plain": [
       "(21611, 171)"
      ]
     },
     "execution_count": 53,
     "metadata": {},
     "output_type": "execute_result"
    }
   ],
   "source": [
    "poly_features.shape"
   ]
  },
  {
   "cell_type": "code",
   "execution_count": 54,
   "metadata": {},
   "outputs": [
    {
     "data": {
      "text/plain": [
       "(21611, 17)"
      ]
     },
     "execution_count": 54,
     "metadata": {},
     "output_type": "execute_result"
    }
   ],
   "source": [
    "featuresall.shape"
   ]
  },
  {
   "cell_type": "code",
   "execution_count": 55,
   "metadata": {},
   "outputs": [
    {
     "name": "stdout",
     "output_type": "stream",
     "text": [
      "   train score  test score  random state\n",
      "0     0.820030    0.837649             1\n",
      "1     0.825567    0.826844             2\n",
      "2     0.823243    0.832218             5\n",
      "3     0.825852    0.826239             6\n",
      "4     0.823355    0.831292            12\n",
      "5     0.824239    0.829002            13\n",
      "6     0.821896    0.830251            15\n",
      "7     0.824023    0.832546            26\n"
     ]
    }
   ],
   "source": [
    "from sklearn.linear_model import LinearRegression\n",
    "from sklearn.model_selection import train_test_split\n",
    "bruteScores = []\n",
    "for i in range(1,30):\n",
    "    x_train,  x_test, y_train, y_test = train_test_split(poly_features, label, test_size = 0.3, random_state=i)\n",
    "    \n",
    "    LinReg_model = LinearRegression().fit(x_train, y_train)\n",
    "    \n",
    "    test_score = LinReg_model.score(x_test,y_test)\n",
    "    train_score = LinReg_model.score(x_train,y_train)\n",
    "    \n",
    "    if test_score > train_score:\n",
    "         bruteScores.append((train_score, test_score, i))\n",
    "             \n",
    "print(pd.DataFrame(bruteScores, columns=[\"train score\", 'test score', 'random state']))"
   ]
  },
  {
   "cell_type": "code",
   "execution_count": 56,
   "metadata": {},
   "outputs": [],
   "source": [
    "from sklearn.decomposition import PCA"
   ]
  },
  {
   "cell_type": "code",
   "execution_count": 57,
   "metadata": {},
   "outputs": [],
   "source": [
    "from sklearn.preprocessing import StandardScaler\n",
    "sc = StandardScaler()\n",
    "scaled_features = sc.fit_transform(featuresall)"
   ]
  },
  {
   "cell_type": "code",
   "execution_count": 58,
   "metadata": {},
   "outputs": [
    {
     "data": {
      "text/plain": [
       "PCA(copy=True, iterated_power='auto', n_components=10, random_state=None,\n",
       "    svd_solver='auto', tol=0.0, whiten=False)"
      ]
     },
     "execution_count": 58,
     "metadata": {},
     "output_type": "execute_result"
    }
   ],
   "source": [
    "principalComponents = PCA(n_components=10)\n",
    "principalComponents.fit(scaled_features,label)"
   ]
  },
  {
   "cell_type": "code",
   "execution_count": 59,
   "metadata": {},
   "outputs": [],
   "source": [
    "PCA_Var_ratio = principalComponents.explained_variance_ratio_.tolist()"
   ]
  },
  {
   "cell_type": "code",
   "execution_count": 60,
   "metadata": {},
   "outputs": [
    {
     "data": {
      "text/plain": [
       "0.8887060198548975"
      ]
     },
     "execution_count": 60,
     "metadata": {},
     "output_type": "execute_result"
    }
   ],
   "source": [
    "sum(PCA_Var_ratio)"
   ]
  },
  {
   "cell_type": "code",
   "execution_count": 61,
   "metadata": {},
   "outputs": [],
   "source": [
    "PCA_features = principalComponents.transform(featuresall)"
   ]
  },
  {
   "cell_type": "code",
   "execution_count": 62,
   "metadata": {},
   "outputs": [
    {
     "name": "stdout",
     "output_type": "stream",
     "text": [
      "    train score  test score  random state\n",
      "0      0.664020    0.667973             2\n",
      "1      0.664934    0.665850             3\n",
      "2      0.656037    0.685246             5\n",
      "3      0.662647    0.670983             9\n",
      "4      0.661740    0.673868            11\n",
      "5      0.662240    0.670846            13\n",
      "6      0.660719    0.675732            14\n",
      "7      0.661817    0.673008            16\n",
      "8      0.663997    0.666214            19\n",
      "9      0.663628    0.668997            21\n",
      "10     0.661329    0.674228            26\n",
      "11     0.664268    0.667416            29\n"
     ]
    }
   ],
   "source": [
    "from sklearn.linear_model import LinearRegression\n",
    "from sklearn.model_selection import train_test_split\n",
    "bruteScores = []\n",
    "for i in range(1,30):\n",
    "    x_train,  x_test, y_train, y_test = train_test_split(PCA_features, label, test_size = 0.3, random_state=i)\n",
    "    \n",
    "    LinReg_model = LinearRegression().fit(x_train, y_train)\n",
    "    \n",
    "    test_score = LinReg_model.score(x_test,y_test)\n",
    "    train_score = LinReg_model.score(x_train,y_train)\n",
    "    \n",
    "    if test_score > train_score:\n",
    "         bruteScores.append((train_score, test_score, i))\n",
    "             \n",
    "print(pd.DataFrame(bruteScores, columns=[\"train score\", 'test score', 'random state']))"
   ]
  },
  {
   "cell_type": "markdown",
   "metadata": {},
   "source": [
    "#Cross Validation\n",
    "from sklearn.model_selection import KFold, cross_val_score # import KFold\n",
    "\n",
    "kfold = KFold(n_splits=20) # Define the split - into 2 folds \n",
    "kfold.get_n_splits(poly_features) # returns the number of splitting iterations in the cross-validator\n",
    "print(kfold) "
   ]
  },
  {
   "cell_type": "markdown",
   "metadata": {},
   "source": [
    "for train_index, test_index in kfold.split(poly_features):\n",
    "    print('train: %s, test: %s' % (train, test))\n",
    "    X_train, X_test, y_train, y_test = poly_features[train_index], poly_features[test_index], label[train_index], label[test_index]\n",
    "    print(np.isnan(X_train).sum())\n",
    "    y_train.replace(to_replace = np.argwhere(np.isnan(y_train), value=np.mean(y_train))   \n",
    "    print(np.isnan(y_train).sum())\n",
    "    print(np.isnan(X_test).sum())\n",
    "    print(np.isnan(y_test).sum())\n",
    "    LinearRegression().fit(X_train, y_train)\n",
    "    scores.append(LinearRegression.score(X_test, y_test))"
   ]
  },
  {
   "cell_type": "code",
   "execution_count": 63,
   "metadata": {},
   "outputs": [],
   "source": [
    "#cross validaion\n",
    "from sklearn.model_selection import cross_val_score\n",
    "cross_val = cross_val_score(LinearRegression(), poly_features, label, cv=5)"
   ]
  },
  {
   "cell_type": "code",
   "execution_count": 64,
   "metadata": {},
   "outputs": [
    {
     "name": "stdout",
     "output_type": "stream",
     "text": [
      "0.812843657112807\n"
     ]
    }
   ],
   "source": [
    "print(np.mean(cross_val))"
   ]
  },
  {
   "cell_type": "code",
   "execution_count": 65,
   "metadata": {},
   "outputs": [],
   "source": [
    "#Pipelining \n",
    "from sklearn.pipeline import Pipeline\n",
    "Poly_Input=[('scale',StandardScaler()), ('polynomial', PolynomialFeatures(degree=2,include_bias=False)), ('model',LinearRegression())]"
   ]
  },
  {
   "cell_type": "code",
   "execution_count": 66,
   "metadata": {},
   "outputs": [
    {
     "data": {
      "text/plain": [
       "Pipeline(memory=None,\n",
       "         steps=[('scale',\n",
       "                 StandardScaler(copy=True, with_mean=True, with_std=True)),\n",
       "                ('polynomial',\n",
       "                 PolynomialFeatures(degree=2, include_bias=False,\n",
       "                                    interaction_only=False, order='C')),\n",
       "                ('model',\n",
       "                 LinearRegression(copy_X=True, fit_intercept=True, n_jobs=None,\n",
       "                                  normalize=False))],\n",
       "         verbose=False)"
      ]
     },
     "execution_count": 66,
     "metadata": {},
     "output_type": "execute_result"
    }
   ],
   "source": [
    "polypipe = Pipeline(Poly_Input)\n",
    "polypipe"
   ]
  },
  {
   "cell_type": "code",
   "execution_count": 67,
   "metadata": {},
   "outputs": [
    {
     "data": {
      "text/plain": [
       "Pipeline(memory=None,\n",
       "         steps=[('scale',\n",
       "                 StandardScaler(copy=True, with_mean=True, with_std=True)),\n",
       "                ('polynomial',\n",
       "                 PolynomialFeatures(degree=2, include_bias=False,\n",
       "                                    interaction_only=False, order='C')),\n",
       "                ('model',\n",
       "                 LinearRegression(copy_X=True, fit_intercept=True, n_jobs=None,\n",
       "                                  normalize=False))],\n",
       "         verbose=False)"
      ]
     },
     "execution_count": 67,
     "metadata": {},
     "output_type": "execute_result"
    }
   ],
   "source": [
    "polypipe.fit(featuresall, label)"
   ]
  },
  {
   "cell_type": "code",
   "execution_count": 68,
   "metadata": {},
   "outputs": [],
   "source": [
    "y_polypipe = polypipe.predict(featuresall)"
   ]
  },
  {
   "cell_type": "code",
   "execution_count": 69,
   "metadata": {},
   "outputs": [
    {
     "data": {
      "text/plain": [
       "array([277145., 594251., 467677.])"
      ]
     },
     "execution_count": 69,
     "metadata": {},
     "output_type": "execute_result"
    }
   ],
   "source": [
    "y_polypipe[0:3]"
   ]
  },
  {
   "cell_type": "code",
   "execution_count": 70,
   "metadata": {},
   "outputs": [
    {
     "data": {
      "text/plain": [
       "0.8285880942324283"
      ]
     },
     "execution_count": 70,
     "metadata": {},
     "output_type": "execute_result"
    }
   ],
   "source": [
    "polypipe.score(featuresall, label)"
   ]
  },
  {
   "cell_type": "code",
   "execution_count": 71,
   "metadata": {},
   "outputs": [],
   "source": [
    "Scale_Input=[('scale',StandardScaler()), ('model',LinearRegression())]"
   ]
  },
  {
   "cell_type": "code",
   "execution_count": 72,
   "metadata": {},
   "outputs": [],
   "source": [
    "scalepipe = Pipeline(Scale_Input)"
   ]
  },
  {
   "cell_type": "code",
   "execution_count": 73,
   "metadata": {},
   "outputs": [
    {
     "data": {
      "text/plain": [
       "Pipeline(memory=None,\n",
       "         steps=[('scale',\n",
       "                 StandardScaler(copy=True, with_mean=True, with_std=True)),\n",
       "                ('model',\n",
       "                 LinearRegression(copy_X=True, fit_intercept=True, n_jobs=None,\n",
       "                                  normalize=False))],\n",
       "         verbose=False)"
      ]
     },
     "execution_count": 73,
     "metadata": {},
     "output_type": "execute_result"
    }
   ],
   "source": [
    "scalepipe.fit(featuresall, label)"
   ]
  },
  {
   "cell_type": "code",
   "execution_count": 74,
   "metadata": {},
   "outputs": [],
   "source": [
    "y_scalepipe = scalepipe.predict(featuresall)"
   ]
  },
  {
   "cell_type": "code",
   "execution_count": 75,
   "metadata": {},
   "outputs": [
    {
     "data": {
      "text/plain": [
       "array([206892.40378587, 735881.70415959, 381001.57439066, 454511.24484059,\n",
       "       439400.92863966])"
      ]
     },
     "execution_count": 75,
     "metadata": {},
     "output_type": "execute_result"
    }
   ],
   "source": [
    "y_scalepipe[0:5]"
   ]
  },
  {
   "cell_type": "code",
   "execution_count": 76,
   "metadata": {},
   "outputs": [
    {
     "data": {
      "text/plain": [
       "0.6998671512538212"
      ]
     },
     "execution_count": 76,
     "metadata": {},
     "output_type": "execute_result"
    }
   ],
   "source": [
    "scalepipe.score(featuresall, label)"
   ]
  },
  {
   "cell_type": "markdown",
   "metadata": {},
   "source": [
    "### Decision tree regressor"
   ]
  },
  {
   "cell_type": "code",
   "execution_count": 77,
   "metadata": {},
   "outputs": [
    {
     "name": "stdout",
     "output_type": "stream",
     "text": [
      "Test Score: 0.7627344196984507\n",
      "Train Score: 0.9993920487088334\n"
     ]
    }
   ],
   "source": [
    "#Decision tree regressor\n",
    "from sklearn.tree import DecisionTreeRegressor, DecisionTreeClassifier\n",
    "x_train,  x_test, y_train, y_test = train_test_split(featuresall, label, test_size = 0.3, random_state=20)\n",
    "\n",
    "DTR_model = DecisionTreeRegressor().fit(x_train, y_train)\n",
    "\n",
    "test_score = DTR_model.score(x_test,y_test)\n",
    "train_score = DTR_model.score(x_train,y_train)\n",
    "\n",
    "print(\"Test Score: {}\\nTrain Score: {}\".format(test_score,train_score))"
   ]
  },
  {
   "cell_type": "code",
   "execution_count": 78,
   "metadata": {},
   "outputs": [],
   "source": [
    "#Decision tree regressor\n",
    "from sklearn.tree import DecisionTreeRegressor\n",
    "for i in range(1,30):\n",
    "    x_train,  x_test, y_train, y_test = train_test_split(featuresall, label, test_size = 0.3, random_state=i)\n",
    "    \n",
    "    DTR_model = DecisionTreeRegressor().fit(x_train, y_train)\n",
    "\n",
    "    test_score = DTR_model.score(x_test,y_test)\n",
    "    train_score = DTR_model.score(x_train,y_train)\n",
    "    \n",
    "    if test_score > train_score:\n",
    "        print(\"Test Score: {}\\tTrain Score: {}\\tRandom State: {}\".format(test_score,train_score,i))"
   ]
  },
  {
   "cell_type": "markdown",
   "metadata": {},
   "source": [
    "### Ridge "
   ]
  },
  {
   "cell_type": "code",
   "execution_count": 79,
   "metadata": {},
   "outputs": [
    {
     "name": "stdout",
     "output_type": "stream",
     "text": [
      "Test Score: 0.7524562944227636\n",
      "Train Score: 0.9993920487088334\n"
     ]
    }
   ],
   "source": [
    "from sklearn.linear_model import Ridge\n",
    "x_train,  x_test, y_train, y_test = train_test_split(featuresall, label, test_size = 0.3, random_state=20)\n",
    "\n",
    "Ridge_model = DecisionTreeRegressor().fit(x_train, y_train)\n",
    "\n",
    "test_score = Ridge_model.score(x_test,y_test)\n",
    "train_score = Ridge_model.score(x_train,y_train)\n",
    "\n",
    "print(\"Test Score: {}\\nTrain Score: {}\".format(test_score,train_score))"
   ]
  },
  {
   "cell_type": "code",
   "execution_count": 80,
   "metadata": {},
   "outputs": [
    {
     "name": "stdout",
     "output_type": "stream",
     "text": [
      "Test Score: 0.6845623849082777\n",
      "Train Score: 0.9993920487088334\n"
     ]
    }
   ],
   "source": [
    "from sklearn.linear_model import Ridge\n",
    "x_train,  x_test, y_train, y_test = train_test_split(poly_features, label, test_size = 0.3, random_state=20)\n",
    "\n",
    "Ridge_model = DecisionTreeRegressor().fit(x_train, y_train)\n",
    "\n",
    "test_score = Ridge_model.score(x_test,y_test)\n",
    "train_score = Ridge_model.score(x_train,y_train)\n",
    "\n",
    "print(\"Test Score: {}\\nTrain Score: {}\".format(test_score,train_score))"
   ]
  },
  {
   "cell_type": "markdown",
   "metadata": {},
   "source": [
    "# Evaluation"
   ]
  },
  {
   "cell_type": "code",
   "execution_count": 81,
   "metadata": {},
   "outputs": [],
   "source": [
    "from sklearn.metrics import mean_squared_error"
   ]
  },
  {
   "cell_type": "code",
   "execution_count": 82,
   "metadata": {},
   "outputs": [
    {
     "name": "stdout",
     "output_type": "stream",
     "text": [
      "Train Score: 0.8200303609248386\n",
      "Test Score: 0.8376493663823241\n",
      "Random State: 29\n"
     ]
    }
   ],
   "source": [
    "#Selecting the best model\n",
    "from sklearn.linear_model import LinearRegression\n",
    "from sklearn.model_selection import train_test_split\n",
    "x_train,  x_test, y_train, y_test = train_test_split(poly_features, label, test_size = 0.3, random_state=1)\n",
    "    \n",
    "LinReg_model = LinearRegression().fit(x_train, y_train)\n",
    "    \n",
    "test_score = LinReg_model.score(x_test,y_test)\n",
    "train_score = LinReg_model.score(x_train,y_train)\n",
    "    \n",
    "if test_score > train_score:             \n",
    "    print('Train Score: {}\\nTest Score: {}\\nRandom State: {}'.format(train_score, test_score, i))"
   ]
  },
  {
   "cell_type": "code",
   "execution_count": 83,
   "metadata": {},
   "outputs": [],
   "source": [
    "LR_prediction = LinReg_model.predict(x_test)"
   ]
  },
  {
   "cell_type": "code",
   "execution_count": 84,
   "metadata": {},
   "outputs": [
    {
     "name": "stdout",
     "output_type": "stream",
     "text": [
      "The mean square error of price and predicted value is:  24183153743.720207\n"
     ]
    }
   ],
   "source": [
    "mse = mean_squared_error(y_test, LR_prediction)\n",
    "print('The mean square error of price and predicted value is: ', mse)"
   ]
  },
  {
   "cell_type": "code",
   "execution_count": 85,
   "metadata": {},
   "outputs": [],
   "source": [
    "from sklearn.metrics import r2_score"
   ]
  },
  {
   "cell_type": "code",
   "execution_count": 86,
   "metadata": {},
   "outputs": [
    {
     "name": "stdout",
     "output_type": "stream",
     "text": [
      "The R-square value is:  0.8376493663823241\n"
     ]
    }
   ],
   "source": [
    "r_squared = r2_score(y_test, LR_prediction)\n",
    "print('The R-square value is: ', r_squared)"
   ]
  },
  {
   "cell_type": "code",
   "execution_count": 87,
   "metadata": {},
   "outputs": [
    {
     "data": {
      "text/plain": [
       "0.8376493663823241"
      ]
     },
     "execution_count": 87,
     "metadata": {},
     "output_type": "execute_result"
    }
   ],
   "source": [
    "LinReg_model.score(x_test, y_test)"
   ]
  },
  {
   "cell_type": "markdown",
   "metadata": {},
   "source": [
    "# Pipeline Evaluation"
   ]
  },
  {
   "cell_type": "code",
   "execution_count": 88,
   "metadata": {},
   "outputs": [],
   "source": [
    "#Pipelining \n",
    "from sklearn.pipeline import Pipeline\n",
    "Poly_Input=[('scale',StandardScaler()), ('polynomial', PolynomialFeatures(degree=2,include_bias=False)), ('model',LinearRegression())]"
   ]
  },
  {
   "cell_type": "code",
   "execution_count": 89,
   "metadata": {},
   "outputs": [
    {
     "data": {
      "text/plain": [
       "Pipeline(memory=None,\n",
       "         steps=[('scale',\n",
       "                 StandardScaler(copy=True, with_mean=True, with_std=True)),\n",
       "                ('polynomial',\n",
       "                 PolynomialFeatures(degree=2, include_bias=False,\n",
       "                                    interaction_only=False, order='C')),\n",
       "                ('model',\n",
       "                 LinearRegression(copy_X=True, fit_intercept=True, n_jobs=None,\n",
       "                                  normalize=False))],\n",
       "         verbose=False)"
      ]
     },
     "execution_count": 89,
     "metadata": {},
     "output_type": "execute_result"
    }
   ],
   "source": [
    "polypipe = Pipeline(Poly_Input)\n",
    "polypipe"
   ]
  },
  {
   "cell_type": "code",
   "execution_count": 90,
   "metadata": {},
   "outputs": [],
   "source": [
    "x_train,  x_test, y_train, y_test = train_test_split(featuresall, label, test_size = 0.3, random_state=1)"
   ]
  },
  {
   "cell_type": "code",
   "execution_count": 91,
   "metadata": {},
   "outputs": [
    {
     "data": {
      "text/plain": [
       "Pipeline(memory=None,\n",
       "         steps=[('scale',\n",
       "                 StandardScaler(copy=True, with_mean=True, with_std=True)),\n",
       "                ('polynomial',\n",
       "                 PolynomialFeatures(degree=2, include_bias=False,\n",
       "                                    interaction_only=False, order='C')),\n",
       "                ('model',\n",
       "                 LinearRegression(copy_X=True, fit_intercept=True, n_jobs=None,\n",
       "                                  normalize=False))],\n",
       "         verbose=False)"
      ]
     },
     "execution_count": 91,
     "metadata": {},
     "output_type": "execute_result"
    }
   ],
   "source": [
    "polypipe.fit(x_train, y_train)"
   ]
  },
  {
   "cell_type": "code",
   "execution_count": 92,
   "metadata": {},
   "outputs": [],
   "source": [
    "y_polypipe = polypipe.predict(x_test)"
   ]
  },
  {
   "cell_type": "code",
   "execution_count": 93,
   "metadata": {},
   "outputs": [
    {
     "data": {
      "text/plain": [
       "array([260182.25, 395167.25, 408903.25, 658415.25])"
      ]
     },
     "execution_count": 93,
     "metadata": {},
     "output_type": "execute_result"
    }
   ],
   "source": [
    "y_polypipe[0:4]"
   ]
  },
  {
   "cell_type": "code",
   "execution_count": 94,
   "metadata": {},
   "outputs": [
    {
     "name": "stdout",
     "output_type": "stream",
     "text": [
      "The R-square value is:  0.837935491675901\n"
     ]
    }
   ],
   "source": [
    "r_squared = r2_score(y_test, y_polypipe)\n",
    "print('The R-square value is: ', r_squared)"
   ]
  },
  {
   "cell_type": "code",
   "execution_count": 98,
   "metadata": {},
   "outputs": [
    {
     "data": {
      "text/plain": [
       "(array([6.300e+01, 5.330e+02, 3.977e+03, 7.183e+03, 6.343e+03, 2.541e+03,\n",
       "        7.330e+02, 1.930e+02, 3.800e+01, 7.000e+00]),\n",
       " array([11.22524339, 11.68839214, 12.15154089, 12.61468964, 13.07783839,\n",
       "        13.54098714, 14.00413589, 14.46728464, 14.93043339, 15.39358214,\n",
       "        15.85673089]),\n",
       " <a list of 10 Patch objects>)"
      ]
     },
     "execution_count": 98,
     "metadata": {},
     "output_type": "execute_result"
    },
    {
     "data": {
      "image/png": "[encoded data removed]",
      "text/plain": [
       "<Figure size 432x288 with 1 Axes>"
      ]
     },
     "metadata": {
      "needs_background": "light"
     },
     "output_type": "display_data"
    }
   ],
   "source": [
    "plt.hist(np.log(label))"
   ]
  },
  {
   "cell_type": "code",
   "execution_count": 100,
   "metadata": {},
   "outputs": [
    {
     "data": {
      "text/plain": [
       "0.4281688439755591"
      ]
     },
     "execution_count": 100,
     "metadata": {},
     "output_type": "execute_result"
    }
   ],
   "source": [
    "np.log(label).skew()"
   ]
  },
  {
   "cell_type": "code",
   "execution_count": null,
   "metadata": {},
   "outputs": [],
   "source": []
  }
 ],
 "metadata": {
  "kernelspec": {
   "display_name": "Python 3",
   "language": "python",
   "name": "python3"
  },
  "language_info": {
   "codemirror_mode": {
    "name": "ipython",
    "version": 3
   },
   "file_extension": ".py",
   "mimetype": "text/x-python",
   "name": "python",
   "nbconvert_exporter": "python",
   "pygments_lexer": "ipython3",
   "version": "3.7.4"
  }
 },
 "nbformat": 4,
 "nbformat_minor": 2
}
